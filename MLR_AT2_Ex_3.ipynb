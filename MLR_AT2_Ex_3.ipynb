{
  "nbformat": 4,
  "nbformat_minor": 0,
  "metadata": {
    "colab": {
      "provenance": []
    },
    "kernelspec": {
      "name": "python3",
      "display_name": "Python 3"
    }
  },
  "cells": [
    {
      "cell_type": "markdown",
      "metadata": {
        "id": "jWAeRQIfG-hW"
      },
      "source": [
        "## Experiment 3: Binary Classification with Decision Tree\n",
        "\n",
        "In this experiment, we will train a multi-class classifier using Decision Tree.\n",
        "\n",
        "Dataset can be downloaded https://drive.google.com/drive/folders/1_50s_IxJsABTRFTWBR0XjuSOnDL4YFuQ\n",
        "\n",
        "The steps are:\n",
        "1.   Load and explore dataset\n",
        "2.   Train Decision Tree with Default Hyperparameters\n",
        "3.   Reduce Overfitting with min_sample_split\n",
        "4.   Reduce Further Overfitting with max_depth\n",
        "5.   Assess model on Testing Set"
      ]
    },
    {
      "cell_type": "markdown",
      "metadata": {
        "id": "GeVNxmhDXH5U"
      },
      "source": [
        "## 1. Load and Explore Dataset"
      ]
    },
    {
      "cell_type": "markdown",
      "metadata": {
        "id": "SFN7e-rzXpFy"
      },
      "source": [
        "**[1.1]** Import the pandas package"
      ]
    },
    {
      "cell_type": "code",
      "metadata": {
        "id": "3LYQih7IXs3_"
      },
      "source": [
        "import pandas as pd\n",
        "import numpy as np"
      ],
      "execution_count": null,
      "outputs": []
    },
    {
      "cell_type": "markdown",
      "metadata": {
        "id": "K7VeL3XCXuuX"
      },
      "source": [
        "**[1.2]** Mounting the drive\n",
        "\n",
        "You must allow access to your drive by signing in to your Google account\n",
        "In this notebook, I'm mounting the Google drive to read a csv file that is stored on my drive."
      ]
    },
    {
      "cell_type": "code",
      "source": [
        "from google.colab import drive\n",
        "drive.mount('/content/drive')"
      ],
      "metadata": {
        "colab": {
          "base_uri": "https://localhost:8080/"
        },
        "id": "HsDcUXlARhdf",
        "outputId": "7f02ac49-5451-4761-9849-58e81448e0a0"
      },
      "execution_count": null,
      "outputs": [
        {
          "output_type": "stream",
          "name": "stdout",
          "text": [
            "Mounted at /content/drive\n"
          ]
        }
      ]
    },
    {
      "cell_type": "code",
      "source": [
        "# After executing the cell above, Drive files will be present in \"/content/drive/My Drive\". The below command lists the contents in the drive:\n",
        "!ls \"/content/drive/My Drive\""
      ],
      "metadata": {
        "colab": {
          "base_uri": "https://localhost:8080/"
        },
        "id": "u3iqj_WwRldN",
        "outputId": "a1c6c327-52a6-465e-c1fd-66687739d87a"
      },
      "execution_count": null,
      "outputs": [
        {
          "output_type": "stream",
          "name": "stdout",
          "text": [
            " AT2_default_template.gdoc\n",
            " atlassian_reviews.csv\n",
            " CNN_Articles_2021-2023.csv\n",
            " CNN_Articles_2021-2023.gsheet\n",
            "'Colab Notebooks'\n",
            "'Copy of Data meaning https:  tinyurl.com DSI-Dmean-c (1).gsheet'\n",
            "'Copy of Data meaning https:  tinyurl.com DSI-Dmean-c (2).gsheet'\n",
            "'Copy of Data meaning https:  tinyurl.com DSI-Dmean-c (3).gsheet'\n",
            "'Copy of Data meaning https:  tinyurl.com DSI-Dmean-c.gsheet'\n",
            "'Copy of MLAA - Lecture 1.gslides'\n",
            "'Copy of MLAA - Lecture 2.gslides'\n",
            "'Copy of MLAA - Lecture 5.gslides'\n",
            " data\n",
            "'DSP_AT3 _REPORT.gdoc'\n",
            "'DSP - Lab 4 - Exercise 1 - Solutions.gdoc'\n",
            " DVN_data\n",
            "'Experiment reports'\n",
            "'Experiment reports 2'\n",
            " glassdoor_data\n",
            " Lambda_Project_Report_Draft.gdoc\n",
            " NLP_data\n",
            "'ODI Data Ethics Canvas.gdoc'\n",
            "'Reddit_Data (1).csv'\n",
            " Untitled\n",
            "'Untitled document (1).gdoc'\n",
            "'Untitled document.gdoc'\n"
          ]
        }
      ]
    },
    {
      "cell_type": "markdown",
      "source": [
        "**[1.3]** Load the prepared dataset"
      ],
      "metadata": {
        "id": "biWENXkbRqgJ"
      }
    },
    {
      "cell_type": "code",
      "metadata": {
        "id": "PKkWBSMqXu7q"
      },
      "source": [
        "\n",
        "X_train = pd.read_csv('/content/drive/My Drive/data/X_train.csv', index_col=0)\n",
        "X_val = pd.read_csv('/content/drive/My Drive/data/X_val.csv', index_col=0)\n",
        "X_test = pd.read_csv('/content/drive/My Drive/data/X_test.csv', index_col=0)\n",
        "y_train = pd.read_csv('/content/drive/My Drive/data/y_train.csv', index_col=0)\n",
        "y_val = pd.read_csv('/content/drive/My Drive/data/y_val.csv', index_col=0)\n",
        "y_test = pd.read_csv('/content/drive/My Drive/data/y_test.csv', index_col=0)"
      ],
      "execution_count": null,
      "outputs": []
    },
    {
      "cell_type": "markdown",
      "metadata": {
        "id": "wb721JdPX_bI"
      },
      "source": [
        "**[1.4]** Display the first 5 rows of X_train"
      ]
    },
    {
      "cell_type": "code",
      "metadata": {
        "id": "RufBEUUmX_g2",
        "colab": {
          "base_uri": "https://localhost:8080/",
          "height": 270
        },
        "outputId": "e7fdfa7e-2cee-49ab-ca4f-c665f0d48afb"
      },
      "source": [
        "# Solution\n",
        "X_train.head()"
      ],
      "execution_count": null,
      "outputs": [
        {
          "output_type": "execute_result",
          "data": {
            "text/plain": [
              "        car_model  car_segment  age_of_vehicle_years  sched_serv_warr  \\\n",
              "117183        2.0          2.0                     1                1   \n",
              "80308         3.0          0.0                     4               10   \n",
              "18279         4.0          2.0                     5                9   \n",
              "9337          2.0          2.0                     9                8   \n",
              "74816         5.0          0.0                     8                2   \n",
              "\n",
              "        non_sched_serv_warr  sched_serv_paid  non_sched_serv_paid  \\\n",
              "117183                    1                3                    2   \n",
              "80308                     7                8                    5   \n",
              "18279                    10               10                   10   \n",
              "9337                     10                7                   10   \n",
              "74816                     6                3                   10   \n",
              "\n",
              "        total_paid_services  total_services  mth_since_last_serv  \\\n",
              "117183                    2               2                    1   \n",
              "80308                     6               9                    4   \n",
              "18279                    10              10                    4   \n",
              "9337                     10              10                    3   \n",
              "74816                    10               3                   10   \n",
              "\n",
              "        annualised_mileage  num_dealers_visited  num_serv_dealer_purchased  \\\n",
              "117183                   2                    3                          2   \n",
              "80308                    7                    7                         10   \n",
              "18279                   10                    3                         10   \n",
              "9337                     9                    5                         10   \n",
              "74816                    3                    1                          3   \n",
              "\n",
              "        gender_0  gender_Female  gender_Male  \n",
              "117183         0              1            0  \n",
              "80308          1              0            0  \n",
              "18279          0              1            0  \n",
              "9337           0              1            0  \n",
              "74816          1              0            0  "
            ],
            "text/html": [
              "\n",
              "  <div id=\"df-57b3f742-de64-4352-aa9c-844664edf885\">\n",
              "    <div class=\"colab-df-container\">\n",
              "      <div>\n",
              "<style scoped>\n",
              "    .dataframe tbody tr th:only-of-type {\n",
              "        vertical-align: middle;\n",
              "    }\n",
              "\n",
              "    .dataframe tbody tr th {\n",
              "        vertical-align: top;\n",
              "    }\n",
              "\n",
              "    .dataframe thead th {\n",
              "        text-align: right;\n",
              "    }\n",
              "</style>\n",
              "<table border=\"1\" class=\"dataframe\">\n",
              "  <thead>\n",
              "    <tr style=\"text-align: right;\">\n",
              "      <th></th>\n",
              "      <th>car_model</th>\n",
              "      <th>car_segment</th>\n",
              "      <th>age_of_vehicle_years</th>\n",
              "      <th>sched_serv_warr</th>\n",
              "      <th>non_sched_serv_warr</th>\n",
              "      <th>sched_serv_paid</th>\n",
              "      <th>non_sched_serv_paid</th>\n",
              "      <th>total_paid_services</th>\n",
              "      <th>total_services</th>\n",
              "      <th>mth_since_last_serv</th>\n",
              "      <th>annualised_mileage</th>\n",
              "      <th>num_dealers_visited</th>\n",
              "      <th>num_serv_dealer_purchased</th>\n",
              "      <th>gender_0</th>\n",
              "      <th>gender_Female</th>\n",
              "      <th>gender_Male</th>\n",
              "    </tr>\n",
              "  </thead>\n",
              "  <tbody>\n",
              "    <tr>\n",
              "      <th>117183</th>\n",
              "      <td>2.0</td>\n",
              "      <td>2.0</td>\n",
              "      <td>1</td>\n",
              "      <td>1</td>\n",
              "      <td>1</td>\n",
              "      <td>3</td>\n",
              "      <td>2</td>\n",
              "      <td>2</td>\n",
              "      <td>2</td>\n",
              "      <td>1</td>\n",
              "      <td>2</td>\n",
              "      <td>3</td>\n",
              "      <td>2</td>\n",
              "      <td>0</td>\n",
              "      <td>1</td>\n",
              "      <td>0</td>\n",
              "    </tr>\n",
              "    <tr>\n",
              "      <th>80308</th>\n",
              "      <td>3.0</td>\n",
              "      <td>0.0</td>\n",
              "      <td>4</td>\n",
              "      <td>10</td>\n",
              "      <td>7</td>\n",
              "      <td>8</td>\n",
              "      <td>5</td>\n",
              "      <td>6</td>\n",
              "      <td>9</td>\n",
              "      <td>4</td>\n",
              "      <td>7</td>\n",
              "      <td>7</td>\n",
              "      <td>10</td>\n",
              "      <td>1</td>\n",
              "      <td>0</td>\n",
              "      <td>0</td>\n",
              "    </tr>\n",
              "    <tr>\n",
              "      <th>18279</th>\n",
              "      <td>4.0</td>\n",
              "      <td>2.0</td>\n",
              "      <td>5</td>\n",
              "      <td>9</td>\n",
              "      <td>10</td>\n",
              "      <td>10</td>\n",
              "      <td>10</td>\n",
              "      <td>10</td>\n",
              "      <td>10</td>\n",
              "      <td>4</td>\n",
              "      <td>10</td>\n",
              "      <td>3</td>\n",
              "      <td>10</td>\n",
              "      <td>0</td>\n",
              "      <td>1</td>\n",
              "      <td>0</td>\n",
              "    </tr>\n",
              "    <tr>\n",
              "      <th>9337</th>\n",
              "      <td>2.0</td>\n",
              "      <td>2.0</td>\n",
              "      <td>9</td>\n",
              "      <td>8</td>\n",
              "      <td>10</td>\n",
              "      <td>7</td>\n",
              "      <td>10</td>\n",
              "      <td>10</td>\n",
              "      <td>10</td>\n",
              "      <td>3</td>\n",
              "      <td>9</td>\n",
              "      <td>5</td>\n",
              "      <td>10</td>\n",
              "      <td>0</td>\n",
              "      <td>1</td>\n",
              "      <td>0</td>\n",
              "    </tr>\n",
              "    <tr>\n",
              "      <th>74816</th>\n",
              "      <td>5.0</td>\n",
              "      <td>0.0</td>\n",
              "      <td>8</td>\n",
              "      <td>2</td>\n",
              "      <td>6</td>\n",
              "      <td>3</td>\n",
              "      <td>10</td>\n",
              "      <td>10</td>\n",
              "      <td>3</td>\n",
              "      <td>10</td>\n",
              "      <td>3</td>\n",
              "      <td>1</td>\n",
              "      <td>3</td>\n",
              "      <td>1</td>\n",
              "      <td>0</td>\n",
              "      <td>0</td>\n",
              "    </tr>\n",
              "  </tbody>\n",
              "</table>\n",
              "</div>\n",
              "      <button class=\"colab-df-convert\" onclick=\"convertToInteractive('df-57b3f742-de64-4352-aa9c-844664edf885')\"\n",
              "              title=\"Convert this dataframe to an interactive table.\"\n",
              "              style=\"display:none;\">\n",
              "        \n",
              "  <svg xmlns=\"http://www.w3.org/2000/svg\" height=\"24px\"viewBox=\"0 0 24 24\"\n",
              "       width=\"24px\">\n",
              "    <path d=\"M0 0h24v24H0V0z\" fill=\"none\"/>\n",
              "    <path d=\"M18.56 5.44l.94 2.06.94-2.06 2.06-.94-2.06-.94-.94-2.06-.94 2.06-2.06.94zm-11 1L8.5 8.5l.94-2.06 2.06-.94-2.06-.94L8.5 2.5l-.94 2.06-2.06.94zm10 10l.94 2.06.94-2.06 2.06-.94-2.06-.94-.94-2.06-.94 2.06-2.06.94z\"/><path d=\"M17.41 7.96l-1.37-1.37c-.4-.4-.92-.59-1.43-.59-.52 0-1.04.2-1.43.59L10.3 9.45l-7.72 7.72c-.78.78-.78 2.05 0 2.83L4 21.41c.39.39.9.59 1.41.59.51 0 1.02-.2 1.41-.59l7.78-7.78 2.81-2.81c.8-.78.8-2.07 0-2.86zM5.41 20L4 18.59l7.72-7.72 1.47 1.35L5.41 20z\"/>\n",
              "  </svg>\n",
              "      </button>\n",
              "      \n",
              "  <style>\n",
              "    .colab-df-container {\n",
              "      display:flex;\n",
              "      flex-wrap:wrap;\n",
              "      gap: 12px;\n",
              "    }\n",
              "\n",
              "    .colab-df-convert {\n",
              "      background-color: #E8F0FE;\n",
              "      border: none;\n",
              "      border-radius: 50%;\n",
              "      cursor: pointer;\n",
              "      display: none;\n",
              "      fill: #1967D2;\n",
              "      height: 32px;\n",
              "      padding: 0 0 0 0;\n",
              "      width: 32px;\n",
              "    }\n",
              "\n",
              "    .colab-df-convert:hover {\n",
              "      background-color: #E2EBFA;\n",
              "      box-shadow: 0px 1px 2px rgba(60, 64, 67, 0.3), 0px 1px 3px 1px rgba(60, 64, 67, 0.15);\n",
              "      fill: #174EA6;\n",
              "    }\n",
              "\n",
              "    [theme=dark] .colab-df-convert {\n",
              "      background-color: #3B4455;\n",
              "      fill: #D2E3FC;\n",
              "    }\n",
              "\n",
              "    [theme=dark] .colab-df-convert:hover {\n",
              "      background-color: #434B5C;\n",
              "      box-shadow: 0px 1px 3px 1px rgba(0, 0, 0, 0.15);\n",
              "      filter: drop-shadow(0px 1px 2px rgba(0, 0, 0, 0.3));\n",
              "      fill: #FFFFFF;\n",
              "    }\n",
              "  </style>\n",
              "\n",
              "      <script>\n",
              "        const buttonEl =\n",
              "          document.querySelector('#df-57b3f742-de64-4352-aa9c-844664edf885 button.colab-df-convert');\n",
              "        buttonEl.style.display =\n",
              "          google.colab.kernel.accessAllowed ? 'block' : 'none';\n",
              "\n",
              "        async function convertToInteractive(key) {\n",
              "          const element = document.querySelector('#df-57b3f742-de64-4352-aa9c-844664edf885');\n",
              "          const dataTable =\n",
              "            await google.colab.kernel.invokeFunction('convertToInteractive',\n",
              "                                                     [key], {});\n",
              "          if (!dataTable) return;\n",
              "\n",
              "          const docLinkHtml = 'Like what you see? Visit the ' +\n",
              "            '<a target=\"_blank\" href=https://colab.research.google.com/notebooks/data_table.ipynb>data table notebook</a>'\n",
              "            + ' to learn more about interactive tables.';\n",
              "          element.innerHTML = '';\n",
              "          dataTable['output_type'] = 'display_data';\n",
              "          await google.colab.output.renderOutput(dataTable, element);\n",
              "          const docLink = document.createElement('div');\n",
              "          docLink.innerHTML = docLinkHtml;\n",
              "          element.appendChild(docLink);\n",
              "        }\n",
              "      </script>\n",
              "    </div>\n",
              "  </div>\n",
              "  "
            ]
          },
          "metadata": {},
          "execution_count": 5
        }
      ]
    },
    {
      "cell_type": "markdown",
      "metadata": {
        "id": "D74rTVpNFJ5o"
      },
      "source": [
        "## 2. Train Decision Tree with Default Hyperparameters"
      ]
    },
    {
      "cell_type": "markdown",
      "metadata": {
        "id": "_1AUhHCNv1c6"
      },
      "source": [
        "**[2.1]** Import DecisionTreeClassifier from sklearn.tree"
      ]
    },
    {
      "cell_type": "code",
      "metadata": {
        "id": "70nHVX_8v2AE"
      },
      "source": [
        "from sklearn.tree import DecisionTreeClassifier"
      ],
      "execution_count": null,
      "outputs": []
    },
    {
      "cell_type": "markdown",
      "metadata": {
        "id": "bNCcyy1Gn7p9"
      },
      "source": [
        "**[2.2]** Instantiate a DecisionTreeClassifier() model with random_state= 42parameter in order to keep our results consistent"
      ]
    },
    {
      "cell_type": "code",
      "metadata": {
        "id": "z7_0V2gzsTGt"
      },
      "source": [
        "tree_1 = DecisionTreeClassifier(random_state=42)"
      ],
      "execution_count": null,
      "outputs": []
    },
    {
      "cell_type": "markdown",
      "metadata": {
        "id": "wuTSGFjXwUxf"
      },
      "source": [
        "**[2.3]** Train the model on the training set\n",
        "\n"
      ]
    },
    {
      "cell_type": "code",
      "metadata": {
        "id": "SYNw0QQNwVBB",
        "colab": {
          "base_uri": "https://localhost:8080/",
          "height": 74
        },
        "outputId": "f5d35e09-b5b4-4012-e6bf-9bae9444a3d2"
      },
      "source": [
        "tree_1.fit(X_train, y_train)"
      ],
      "execution_count": null,
      "outputs": [
        {
          "output_type": "execute_result",
          "data": {
            "text/plain": [
              "DecisionTreeClassifier(random_state=42)"
            ],
            "text/html": [
              "<style>#sk-container-id-1 {color: black;background-color: white;}#sk-container-id-1 pre{padding: 0;}#sk-container-id-1 div.sk-toggleable {background-color: white;}#sk-container-id-1 label.sk-toggleable__label {cursor: pointer;display: block;width: 100%;margin-bottom: 0;padding: 0.3em;box-sizing: border-box;text-align: center;}#sk-container-id-1 label.sk-toggleable__label-arrow:before {content: \"▸\";float: left;margin-right: 0.25em;color: #696969;}#sk-container-id-1 label.sk-toggleable__label-arrow:hover:before {color: black;}#sk-container-id-1 div.sk-estimator:hover label.sk-toggleable__label-arrow:before {color: black;}#sk-container-id-1 div.sk-toggleable__content {max-height: 0;max-width: 0;overflow: hidden;text-align: left;background-color: #f0f8ff;}#sk-container-id-1 div.sk-toggleable__content pre {margin: 0.2em;color: black;border-radius: 0.25em;background-color: #f0f8ff;}#sk-container-id-1 input.sk-toggleable__control:checked~div.sk-toggleable__content {max-height: 200px;max-width: 100%;overflow: auto;}#sk-container-id-1 input.sk-toggleable__control:checked~label.sk-toggleable__label-arrow:before {content: \"▾\";}#sk-container-id-1 div.sk-estimator input.sk-toggleable__control:checked~label.sk-toggleable__label {background-color: #d4ebff;}#sk-container-id-1 div.sk-label input.sk-toggleable__control:checked~label.sk-toggleable__label {background-color: #d4ebff;}#sk-container-id-1 input.sk-hidden--visually {border: 0;clip: rect(1px 1px 1px 1px);clip: rect(1px, 1px, 1px, 1px);height: 1px;margin: -1px;overflow: hidden;padding: 0;position: absolute;width: 1px;}#sk-container-id-1 div.sk-estimator {font-family: monospace;background-color: #f0f8ff;border: 1px dotted black;border-radius: 0.25em;box-sizing: border-box;margin-bottom: 0.5em;}#sk-container-id-1 div.sk-estimator:hover {background-color: #d4ebff;}#sk-container-id-1 div.sk-parallel-item::after {content: \"\";width: 100%;border-bottom: 1px solid gray;flex-grow: 1;}#sk-container-id-1 div.sk-label:hover label.sk-toggleable__label {background-color: #d4ebff;}#sk-container-id-1 div.sk-serial::before {content: \"\";position: absolute;border-left: 1px solid gray;box-sizing: border-box;top: 0;bottom: 0;left: 50%;z-index: 0;}#sk-container-id-1 div.sk-serial {display: flex;flex-direction: column;align-items: center;background-color: white;padding-right: 0.2em;padding-left: 0.2em;position: relative;}#sk-container-id-1 div.sk-item {position: relative;z-index: 1;}#sk-container-id-1 div.sk-parallel {display: flex;align-items: stretch;justify-content: center;background-color: white;position: relative;}#sk-container-id-1 div.sk-item::before, #sk-container-id-1 div.sk-parallel-item::before {content: \"\";position: absolute;border-left: 1px solid gray;box-sizing: border-box;top: 0;bottom: 0;left: 50%;z-index: -1;}#sk-container-id-1 div.sk-parallel-item {display: flex;flex-direction: column;z-index: 1;position: relative;background-color: white;}#sk-container-id-1 div.sk-parallel-item:first-child::after {align-self: flex-end;width: 50%;}#sk-container-id-1 div.sk-parallel-item:last-child::after {align-self: flex-start;width: 50%;}#sk-container-id-1 div.sk-parallel-item:only-child::after {width: 0;}#sk-container-id-1 div.sk-dashed-wrapped {border: 1px dashed gray;margin: 0 0.4em 0.5em 0.4em;box-sizing: border-box;padding-bottom: 0.4em;background-color: white;}#sk-container-id-1 div.sk-label label {font-family: monospace;font-weight: bold;display: inline-block;line-height: 1.2em;}#sk-container-id-1 div.sk-label-container {text-align: center;}#sk-container-id-1 div.sk-container {/* jupyter's `normalize.less` sets `[hidden] { display: none; }` but bootstrap.min.css set `[hidden] { display: none !important; }` so we also need the `!important` here to be able to override the default hidden behavior on the sphinx rendered scikit-learn.org. See: https://github.com/scikit-learn/scikit-learn/issues/21755 */display: inline-block !important;position: relative;}#sk-container-id-1 div.sk-text-repr-fallback {display: none;}</style><div id=\"sk-container-id-1\" class=\"sk-top-container\"><div class=\"sk-text-repr-fallback\"><pre>DecisionTreeClassifier(random_state=42)</pre><b>In a Jupyter environment, please rerun this cell to show the HTML representation or trust the notebook. <br />On GitHub, the HTML representation is unable to render, please try loading this page with nbviewer.org.</b></div><div class=\"sk-container\" hidden><div class=\"sk-item\"><div class=\"sk-estimator sk-toggleable\"><input class=\"sk-toggleable__control sk-hidden--visually\" id=\"sk-estimator-id-1\" type=\"checkbox\" checked><label for=\"sk-estimator-id-1\" class=\"sk-toggleable__label sk-toggleable__label-arrow\">DecisionTreeClassifier</label><div class=\"sk-toggleable__content\"><pre>DecisionTreeClassifier(random_state=42)</pre></div></div></div></div></div>"
            ]
          },
          "metadata": {},
          "execution_count": 8
        }
      ]
    },
    {
      "cell_type": "markdown",
      "source": [
        "**[2.4]** Save its predictions from the training and validation sets on 2 different variables"
      ],
      "metadata": {
        "id": "DvJVsGwz7xj8"
      }
    },
    {
      "cell_type": "code",
      "source": [
        "y_train_preds = tree_1.predict(X_train)\n",
        "y_val_preds = tree_1.predict(X_val)"
      ],
      "metadata": {
        "id": "cTEIT8T17xsh"
      },
      "execution_count": null,
      "outputs": []
    },
    {
      "cell_type": "markdown",
      "source": [
        "**[2.5]** Import the accuracy and f1 scores from sklearn"
      ],
      "metadata": {
        "id": "78ZxE7YQ7rDG"
      }
    },
    {
      "cell_type": "code",
      "source": [
        "from sklearn.metrics import accuracy_score, f1_score"
      ],
      "metadata": {
        "id": "0FrEdvmn7rVO"
      },
      "execution_count": null,
      "outputs": []
    },
    {
      "cell_type": "markdown",
      "metadata": {
        "id": "zS_yCNlywaB9"
      },
      "source": [
        "**[2.6]** Print the accuracy score of the training and validation sets"
      ]
    },
    {
      "cell_type": "code",
      "metadata": {
        "id": "NzKDBoyKwagr",
        "colab": {
          "base_uri": "https://localhost:8080/"
        },
        "outputId": "8e70e35f-e5a1-4e53-8c38-293c6f9be953"
      },
      "source": [
        "print(accuracy_score(y_train, y_train_preds))\n",
        "print(accuracy_score(y_val, y_val_preds))"
      ],
      "execution_count": null,
      "outputs": [
        {
          "output_type": "stream",
          "name": "stdout",
          "text": [
            "0.9999905957586872\n",
            "0.9887440758293838\n"
          ]
        }
      ]
    },
    {
      "cell_type": "markdown",
      "metadata": {
        "id": "2E4GIXYmwvCT"
      },
      "source": [
        "**[2.7]** Print the f1 score of the training and validation sets"
      ]
    },
    {
      "cell_type": "code",
      "metadata": {
        "id": "12jnzqskwaIN",
        "colab": {
          "base_uri": "https://localhost:8080/"
        },
        "outputId": "110a84b4-303b-4338-d761-e51659f601f7"
      },
      "source": [
        "print(f1_score(y_train, y_train_preds, average='weighted'))\n",
        "print(f1_score(y_val, y_val_preds, average='weighted'))"
      ],
      "execution_count": null,
      "outputs": [
        {
          "output_type": "stream",
          "name": "stdout",
          "text": [
            "0.9999905949609381\n",
            "0.9887355406471229\n"
          ]
        }
      ]
    },
    {
      "cell_type": "markdown",
      "source": [
        "**[2.8]** Import confusion_matrix, ConfusionMatrixDisplay from sklearn.metrics and matplotlib"
      ],
      "metadata": {
        "id": "k9gqdhFSM9Fa"
      }
    },
    {
      "cell_type": "code",
      "source": [
        "from sklearn.metrics import confusion_matrix, ConfusionMatrixDisplay\n",
        "import matplotlib.pyplot as plt"
      ],
      "metadata": {
        "id": "dddonyYTM_JH"
      },
      "execution_count": null,
      "outputs": []
    },
    {
      "cell_type": "markdown",
      "source": [
        "**[2.9]** Print the confusion matrices for the training and validation sets for this model"
      ],
      "metadata": {
        "id": "hZ7z-oZ9JBpn"
      }
    },
    {
      "cell_type": "code",
      "source": [
        "ConfusionMatrixDisplay.from_estimator(tree_1, X_train, y_train, normalize='true')\n",
        "ConfusionMatrixDisplay.from_estimator(tree_1, X_val, y_val, normalize='true')"
      ],
      "metadata": {
        "colab": {
          "base_uri": "https://localhost:8080/",
          "height": 905
        },
        "id": "F-w3sCX8JEWB",
        "outputId": "81961e0f-3d8c-4c4a-a048-a9e55ee13879"
      },
      "execution_count": null,
      "outputs": [
        {
          "output_type": "execute_result",
          "data": {
            "text/plain": [
              "<sklearn.metrics._plot.confusion_matrix.ConfusionMatrixDisplay at 0x7f44821e4b50>"
            ]
          },
          "metadata": {},
          "execution_count": 14
        },
        {
          "output_type": "display_data",
          "data": {
            "text/plain": [
              "<Figure size 640x480 with 2 Axes>"
            ],
            "image/png": "[encoded data removed]"
          },
          "metadata": {}
        },
        {
          "output_type": "display_data",
          "data": {
            "text/plain": [
              "<Figure size 640x480 with 2 Axes>"
            ],
            "image/png": "[encoded data removed]"
          },
          "metadata": {}
        }
      ]
    },
    {
      "cell_type": "markdown",
      "metadata": {
        "id": "gQ5hj4r0rsmp"
      },
      "source": [
        "## 3. Reduce Overfitting with min_samples_split"
      ]
    },
    {
      "cell_type": "markdown",
      "metadata": {
        "id": "-YYIuzIryHcy"
      },
      "source": [
        "**[3.1]** Train a DecisionTree model with min_samples_split=5 and save the predictions from the training and validation sets"
      ]
    },
    {
      "cell_type": "code",
      "metadata": {
        "id": "6M3bpFqRs_1k"
      },
      "source": [
        "tree_split_1 = DecisionTreeClassifier(random_state=42, min_samples_split=5).fit(X_train, y_train)\n",
        "y_train_preds = tree_split_1.predict(X_train)\n",
        "y_val_preds = tree_split_1.predict(X_val)"
      ],
      "execution_count": null,
      "outputs": []
    },
    {
      "cell_type": "markdown",
      "source": [
        "**[3.2]** Print the accuracy score of the training and validation sets"
      ],
      "metadata": {
        "id": "e14pyWG68fsM"
      }
    },
    {
      "cell_type": "code",
      "source": [
        "print(accuracy_score(y_train, y_train_preds))\n",
        "print(accuracy_score(y_val, y_val_preds))"
      ],
      "metadata": {
        "colab": {
          "base_uri": "https://localhost:8080/"
        },
        "id": "scIGkZZS8f3I",
        "outputId": "a5374415-b0ca-46ad-983b-637193674765"
      },
      "execution_count": null,
      "outputs": [
        {
          "output_type": "stream",
          "name": "stdout",
          "text": [
            "0.9978934499459257\n",
            "0.9901828029790115\n"
          ]
        }
      ]
    },
    {
      "cell_type": "markdown",
      "source": [
        "**[3.3]** Print the f1 score of the training and validation sets"
      ],
      "metadata": {
        "id": "9VVk3RWS8gk9"
      }
    },
    {
      "cell_type": "code",
      "source": [
        "print(f1_score(y_train, y_train_preds, average='weighted'))\n",
        "print(f1_score(y_val, y_val_preds, average='weighted'))"
      ],
      "metadata": {
        "colab": {
          "base_uri": "https://localhost:8080/"
        },
        "id": "_KyeKvvB8guH",
        "outputId": "329c940e-93b2-4a57-ac07-e45f7270cd8f"
      },
      "execution_count": null,
      "outputs": [
        {
          "output_type": "stream",
          "name": "stdout",
          "text": [
            "0.9978707914562606\n",
            "0.9900292367210125\n"
          ]
        }
      ]
    },
    {
      "cell_type": "markdown",
      "source": [
        "Print the confusion matrices for the training and validation sets for tree_split_1 model"
      ],
      "metadata": {
        "id": "LPkzC7W5NtBE"
      }
    },
    {
      "cell_type": "code",
      "source": [
        "ConfusionMatrixDisplay.from_estimator(tree_split_1, X_train, y_train, normalize='true')\n",
        "ConfusionMatrixDisplay.from_estimator(tree_split_1, X_val, y_val, normalize='true')"
      ],
      "metadata": {
        "colab": {
          "base_uri": "https://localhost:8080/",
          "height": 899
        },
        "id": "8c3rItZXNvV0",
        "outputId": "e7e9b504-764b-4841-b4d5-db6c46411115"
      },
      "execution_count": null,
      "outputs": [
        {
          "output_type": "execute_result",
          "data": {
            "text/plain": [
              "<sklearn.metrics._plot.confusion_matrix.ConfusionMatrixDisplay at 0x7f447ff916f0>"
            ]
          },
          "metadata": {},
          "execution_count": 18
        },
        {
          "output_type": "display_data",
          "data": {
            "text/plain": [
              "<Figure size 640x480 with 2 Axes>"
            ],
            "image/png": "[encoded data removed]"
          },
          "metadata": {}
        },
        {
          "output_type": "display_data",
          "data": {
            "text/plain": [
              "<Figure size 640x480 with 2 Axes>"
            ],
            "image/png": "[encoded data removed]"
          },
          "metadata": {}
        }
      ]
    },
    {
      "cell_type": "markdown",
      "metadata": {
        "id": "AvE9tU6pzw-w"
      },
      "source": [
        "**[3.4]** Train a DecisionTree model with min_samples_split=10 and save the predictions from the training and validation sets"
      ]
    },
    {
      "cell_type": "code",
      "metadata": {
        "id": "uF3TDtNKs_vA"
      },
      "source": [
        "tree_split_2 = DecisionTreeClassifier(random_state=42, min_samples_split=10).fit(X_train, y_train)\n",
        "y_train_preds = tree_split_2.predict(X_train)\n",
        "y_val_preds = tree_split_2.predict(X_val)"
      ],
      "execution_count": null,
      "outputs": []
    },
    {
      "cell_type": "markdown",
      "source": [
        "**[3.5]** Print the accuracy score of the training and validation sets"
      ],
      "metadata": {
        "id": "VF9wAB4K8jdm"
      }
    },
    {
      "cell_type": "code",
      "source": [
        "print(accuracy_score(y_train, y_train_preds))\n",
        "print(accuracy_score(y_val, y_val_preds))"
      ],
      "metadata": {
        "colab": {
          "base_uri": "https://localhost:8080/"
        },
        "id": "sLGHhpvY8jng",
        "outputId": "b5ba689b-8093-40e3-9185-fe78a0c01dc2"
      },
      "execution_count": null,
      "outputs": [
        {
          "output_type": "stream",
          "name": "stdout",
          "text": [
            "0.9963323458879955\n",
            "0.9901828029790115\n"
          ]
        }
      ]
    },
    {
      "cell_type": "markdown",
      "source": [
        "**[3.6]** Print the f1 score of the training and validation sets"
      ],
      "metadata": {
        "id": "rjXILiZG8kKZ"
      }
    },
    {
      "cell_type": "code",
      "source": [
        "print(f1_score(y_train, y_train_preds, average='weighted'))\n",
        "print(f1_score(y_val, y_val_preds, average='weighted'))"
      ],
      "metadata": {
        "colab": {
          "base_uri": "https://localhost:8080/"
        },
        "id": "JAoMkpGp8kR7",
        "outputId": "8ca615f3-fb81-42b6-d599-3f33c5b27e37"
      },
      "execution_count": null,
      "outputs": [
        {
          "output_type": "stream",
          "name": "stdout",
          "text": [
            "0.9962824222141842\n",
            "0.9899485823621924\n"
          ]
        }
      ]
    },
    {
      "cell_type": "markdown",
      "source": [
        " **[3.7]** Print the confusion matrices for the training and validation sets for tree_split_2 model"
      ],
      "metadata": {
        "id": "z1nNcNEOKCPl"
      }
    },
    {
      "cell_type": "code",
      "source": [
        "ConfusionMatrixDisplay.from_estimator(tree_split_2, X_train, y_train, normalize='true')\n",
        "ConfusionMatrixDisplay.from_estimator(tree_split_2, X_val, y_val, normalize='true')"
      ],
      "metadata": {
        "colab": {
          "base_uri": "https://localhost:8080/",
          "height": 899
        },
        "id": "L4LrE4KYKF6s",
        "outputId": "42b0ba41-0653-4625-eb92-5f849b7b8873"
      },
      "execution_count": null,
      "outputs": [
        {
          "output_type": "execute_result",
          "data": {
            "text/plain": [
              "<sklearn.metrics._plot.confusion_matrix.ConfusionMatrixDisplay at 0x7f447fed41f0>"
            ]
          },
          "metadata": {},
          "execution_count": 22
        },
        {
          "output_type": "display_data",
          "data": {
            "text/plain": [
              "<Figure size 640x480 with 2 Axes>"
            ],
            "image/png": "[encoded data removed]"
          },
          "metadata": {}
        },
        {
          "output_type": "display_data",
          "data": {
            "text/plain": [
              "<Figure size 640x480 with 2 Axes>"
            ],
            "image/png": "[encoded data removed]"
          },
          "metadata": {}
        }
      ]
    },
    {
      "cell_type": "markdown",
      "metadata": {
        "id": "zRwxAXn21Anb"
      },
      "source": [
        "**[3.7]** Train a DecisionTree model with min_samples_split=20 and save the predictions from the training and validation sets"
      ]
    },
    {
      "cell_type": "code",
      "metadata": {
        "id": "EG-NOyiVzLN2"
      },
      "source": [
        "tree_split_3 = DecisionTreeClassifier(random_state=42, min_samples_split=20).fit(X_train, y_train)\n",
        "y_train_preds = tree_split_3.predict(X_train)\n",
        "y_val_preds = tree_split_3.predict(X_val)"
      ],
      "execution_count": null,
      "outputs": []
    },
    {
      "cell_type": "markdown",
      "source": [
        "**[3.8]** Print the accuracy score of the training and validation sets"
      ],
      "metadata": {
        "id": "PO6lzfBX8qS1"
      }
    },
    {
      "cell_type": "code",
      "source": [
        "print(accuracy_score(y_train, y_train_preds))\n",
        "print(accuracy_score(y_val, y_val_preds))"
      ],
      "metadata": {
        "colab": {
          "base_uri": "https://localhost:8080/"
        },
        "id": "Bnsi7GVK8qb9",
        "outputId": "f9baa310-8b63-42f5-9ba5-f2aee233391f"
      },
      "execution_count": null,
      "outputs": [
        {
          "output_type": "stream",
          "name": "stdout",
          "text": [
            "0.9949311139323835\n",
            "0.991198375084631\n"
          ]
        }
      ]
    },
    {
      "cell_type": "markdown",
      "source": [
        "**[3.9]** Print the f1 score of the training and validation sets"
      ],
      "metadata": {
        "id": "LGwfPqGX8qrl"
      }
    },
    {
      "cell_type": "code",
      "source": [
        "print(f1_score(y_train, y_train_preds, average='weighted'))\n",
        "print(f1_score(y_val, y_val_preds, average='weighted'))"
      ],
      "metadata": {
        "colab": {
          "base_uri": "https://localhost:8080/"
        },
        "id": "KiGoY0C98q0d",
        "outputId": "10fea8a7-3769-49c9-bd35-10b375c52197"
      },
      "execution_count": null,
      "outputs": [
        {
          "output_type": "stream",
          "name": "stdout",
          "text": [
            "0.9948451657553697\n",
            "0.9910030398899077\n"
          ]
        }
      ]
    },
    {
      "cell_type": "markdown",
      "metadata": {
        "id": "DHzQBsuj0l2T"
      },
      "source": [
        "**[3.11]** Print the confusion matrices for the training and validation sets for tree_split_3 model"
      ]
    },
    {
      "cell_type": "code",
      "metadata": {
        "id": "YGXyGjiP0ghN",
        "colab": {
          "base_uri": "https://localhost:8080/",
          "height": 899
        },
        "outputId": "c335caf3-b00c-4e22-b3c5-afabd576483c"
      },
      "source": [
        "ConfusionMatrixDisplay.from_estimator(tree_split_3, X_train, y_train, normalize='true')\n",
        "ConfusionMatrixDisplay.from_estimator(tree_split_3, X_val, y_val, normalize='true')"
      ],
      "execution_count": null,
      "outputs": [
        {
          "output_type": "execute_result",
          "data": {
            "text/plain": [
              "<sklearn.metrics._plot.confusion_matrix.ConfusionMatrixDisplay at 0x7f44827064d0>"
            ]
          },
          "metadata": {},
          "execution_count": 26
        },
        {
          "output_type": "display_data",
          "data": {
            "text/plain": [
              "<Figure size 640x480 with 2 Axes>"
            ],
            "image/png": "[encoded data removed]"
          },
          "metadata": {}
        },
        {
          "output_type": "display_data",
          "data": {
            "text/plain": [
              "<Figure size 640x480 with 2 Axes>"
            ],
            "image/png": "[encoded data removed]"
          },
          "metadata": {}
        }
      ]
    },
    {
      "cell_type": "markdown",
      "metadata": {
        "id": "WU-P_iVRzvrW"
      },
      "source": [
        "## 4. Reduce Further Overfitting with max_depth"
      ]
    },
    {
      "cell_type": "markdown",
      "metadata": {
        "id": "sOY0A4fesF0b"
      },
      "source": [
        "**[4.1]** Let's have a look at what is the current value for this hyperparameter"
      ]
    },
    {
      "cell_type": "code",
      "metadata": {
        "id": "2ip87hj_s_7U",
        "colab": {
          "base_uri": "https://localhost:8080/"
        },
        "outputId": "de203b0a-0f59-4661-af0b-8e031b84171c"
      },
      "source": [
        "tree_1.tree_.max_depth"
      ],
      "execution_count": null,
      "outputs": [
        {
          "output_type": "execute_result",
          "data": {
            "text/plain": [
              "23"
            ]
          },
          "metadata": {},
          "execution_count": 27
        }
      ]
    },
    {
      "cell_type": "markdown",
      "metadata": {
        "id": "g5hS81F12Blv"
      },
      "source": [
        "**[4.2]** Train a DecisionTree model with min_samples_split= 2, max_depth = 20 and save the predictions from the training and validation sets"
      ]
    },
    {
      "cell_type": "code",
      "metadata": {
        "id": "JlaCoBxps_pP"
      },
      "source": [
        "tree_depth_1 = DecisionTreeClassifier(random_state=42, min_samples_split = 2, max_depth=20).fit(X_train, y_train)\n",
        "y_train_preds = tree_depth_1.predict(X_train)\n",
        "y_val_preds = tree_depth_1.predict(X_val)"
      ],
      "execution_count": null,
      "outputs": []
    },
    {
      "cell_type": "markdown",
      "source": [
        "**[4.3]** Print the accuracy score of the training and validation sets bold text"
      ],
      "metadata": {
        "id": "HAKNvrUV-YLg"
      }
    },
    {
      "cell_type": "code",
      "source": [
        "print(accuracy_score(y_train, y_train_preds))\n",
        "print(accuracy_score(y_val, y_val_preds))"
      ],
      "metadata": {
        "id": "koEWHZew-YUF",
        "outputId": "769e149c-ec27-4e63-eb04-cac71198b39b",
        "colab": {
          "base_uri": "https://localhost:8080/"
        }
      },
      "execution_count": null,
      "outputs": [
        {
          "output_type": "stream",
          "name": "stdout",
          "text": [
            "0.9998683406216203\n",
            "0.9890825998645904\n"
          ]
        }
      ]
    },
    {
      "cell_type": "markdown",
      "source": [
        "**[4.4]** Print the f1 score of the training and validation sets"
      ],
      "metadata": {
        "id": "oh28MCu8-YbH"
      }
    },
    {
      "cell_type": "code",
      "source": [
        "print(f1_score(y_train, y_train_preds, average='weighted'))\n",
        "print(f1_score(y_val, y_val_preds, average='weighted'))"
      ],
      "metadata": {
        "id": "zNPfvaRX-Yir",
        "outputId": "15b4dc5c-8145-4dd4-8c09-67e8ca5af9f9",
        "colab": {
          "base_uri": "https://localhost:8080/"
        }
      },
      "execution_count": null,
      "outputs": [
        {
          "output_type": "stream",
          "name": "stdout",
          "text": [
            "0.9998682063345131\n",
            "0.9890576843858615\n"
          ]
        }
      ]
    },
    {
      "cell_type": "markdown",
      "metadata": {
        "id": "J2lFN7en0Ikk"
      },
      "source": [
        "**[4.5]** Train a DecisionTree model with min_samples_split=2, max_depth=15 and save the predictions from the training and validation sets"
      ]
    },
    {
      "cell_type": "code",
      "metadata": {
        "id": "ru6SjDHV0I1J"
      },
      "source": [
        "tree_depth_2 = DecisionTreeClassifier(random_state=42, min_samples_split= 2, max_depth=15).fit(X_train, y_train)\n",
        "y_train_preds = tree_depth_2.predict(X_train)\n",
        "y_val_preds = tree_depth_2.predict(X_val)"
      ],
      "execution_count": null,
      "outputs": []
    },
    {
      "cell_type": "markdown",
      "source": [
        "**[4.6]** Print the accuracy score of the training and validation sets"
      ],
      "metadata": {
        "id": "kmZs2plY_BoT"
      }
    },
    {
      "cell_type": "code",
      "source": [
        "print(accuracy_score(y_train, y_train_preds))\n",
        "print(accuracy_score(y_val, y_val_preds))"
      ],
      "metadata": {
        "id": "NQf_O28N_By4",
        "outputId": "3de7a5ff-493b-4e5a-d572-d67d3b84433e",
        "colab": {
          "base_uri": "https://localhost:8080/"
        }
      },
      "execution_count": null,
      "outputs": [
        {
          "output_type": "stream",
          "name": "stdout",
          "text": [
            "0.9981379602200593\n",
            "0.9906059580230197\n"
          ]
        }
      ]
    },
    {
      "cell_type": "markdown",
      "source": [
        "**[4.7]** Print the f1 score of the training and validation sets"
      ],
      "metadata": {
        "id": "SU2TQ3oN_B_Z"
      }
    },
    {
      "cell_type": "code",
      "source": [
        "print(f1_score(y_train, y_train_preds, average='weighted'))\n",
        "print(f1_score(y_val, y_val_preds, average='weighted'))"
      ],
      "metadata": {
        "id": "KtqCXKXm_CHM",
        "outputId": "7b578703-0557-46d6-9a5a-d44daa53d34a",
        "colab": {
          "base_uri": "https://localhost:8080/"
        }
      },
      "execution_count": null,
      "outputs": [
        {
          "output_type": "stream",
          "name": "stdout",
          "text": [
            "0.9981132824551234\n",
            "0.9904361265704189\n"
          ]
        }
      ]
    },
    {
      "cell_type": "markdown",
      "metadata": {
        "id": "-R6Tdeau0Pla"
      },
      "source": [
        "\n",
        "**[4.8]** Train a DecisionTree model with min_samples_split=2, max_depth=10 and save the predictions from the training and validation sets"
      ]
    },
    {
      "cell_type": "code",
      "metadata": {
        "id": "asrPIqgG0PzE"
      },
      "source": [
        "tree_depth_3 = DecisionTreeClassifier(random_state=42, min_samples_split= 2, max_depth= 10).fit(X_train, y_train)\n",
        "y_train_preds = tree_depth_3.predict(X_train)\n",
        "y_val_preds = tree_depth_3.predict(X_val)"
      ],
      "execution_count": null,
      "outputs": []
    },
    {
      "cell_type": "markdown",
      "source": [
        "**[4.9]** Print the accuracy score of the training and validation sets"
      ],
      "metadata": {
        "id": "hAgM9hzv_DKJ"
      }
    },
    {
      "cell_type": "code",
      "source": [
        "print(accuracy_score(y_train, y_train_preds))\n",
        "print(accuracy_score(y_val, y_val_preds))"
      ],
      "metadata": {
        "id": "obb_aZva_DTw",
        "outputId": "56fd9aff-5ce2-4025-c0f0-f183e53201c5",
        "colab": {
          "base_uri": "https://localhost:8080/"
        }
      },
      "execution_count": null,
      "outputs": [
        {
          "output_type": "stream",
          "name": "stdout",
          "text": [
            "0.992382564536606\n",
            "0.9906905890318213\n"
          ]
        }
      ]
    },
    {
      "cell_type": "markdown",
      "source": [
        "**[4.10]** Print the f1 score of the training and validation sets"
      ],
      "metadata": {
        "id": "KinuVUTN_DjI"
      }
    },
    {
      "cell_type": "code",
      "source": [
        "print(f1_score(y_train, y_train_preds, average='weighted'))\n",
        "print(f1_score(y_val, y_val_preds, average='weighted'))"
      ],
      "metadata": {
        "id": "ptmws2LA_DrL",
        "outputId": "37deeb55-0d1b-4d7c-fed2-24723a547525",
        "colab": {
          "base_uri": "https://localhost:8080/"
        }
      },
      "execution_count": null,
      "outputs": [
        {
          "output_type": "stream",
          "name": "stdout",
          "text": [
            "0.991994763566129\n",
            "0.9901705619003688\n"
          ]
        }
      ]
    },
    {
      "cell_type": "markdown",
      "metadata": {
        "id": "eNHLIxPU28ys"
      },
      "source": [
        "This is the best model with not much overfitting"
      ]
    },
    {
      "cell_type": "markdown",
      "source": [
        "**[4.11]** Print the confusion matrices for the training and validation sets for tree_depth_3 model"
      ],
      "metadata": {
        "id": "MS-APRTIclAa"
      }
    },
    {
      "cell_type": "code",
      "source": [
        "ConfusionMatrixDisplay.from_estimator(tree_depth_1, X_train, y_train, normalize='true')\n",
        "ConfusionMatrixDisplay.from_estimator(tree_depth_1, X_val, y_val, normalize='true')"
      ],
      "metadata": {
        "colab": {
          "base_uri": "https://localhost:8080/",
          "height": 899
        },
        "id": "nhZGN6gPclKn",
        "outputId": "526de539-9d58-49cd-ab3e-23683d853d16"
      },
      "execution_count": null,
      "outputs": [
        {
          "output_type": "execute_result",
          "data": {
            "text/plain": [
              "<sklearn.metrics._plot.confusion_matrix.ConfusionMatrixDisplay at 0x7f447fbb4340>"
            ]
          },
          "metadata": {},
          "execution_count": 37
        },
        {
          "output_type": "display_data",
          "data": {
            "text/plain": [
              "<Figure size 640x480 with 2 Axes>"
            ],
            "image/png": "[encoded data removed]"
          },
          "metadata": {}
        },
        {
          "output_type": "display_data",
          "data": {
            "text/plain": [
              "<Figure size 640x480 with 2 Axes>"
            ],
            "image/png": "[encoded data removed]"
          },
          "metadata": {}
        }
      ]
    },
    {
      "cell_type": "markdown",
      "source": [
        "## 5. Assess model on Testing Set"
      ],
      "metadata": {
        "id": "J9SUSb9N_1to"
      }
    },
    {
      "cell_type": "markdown",
      "metadata": {
        "id": "QxuPzaRXt8Db"
      },
      "source": [
        "**[5.1]** Print the accuracy and f1 scores of our best model on the testing set"
      ]
    },
    {
      "cell_type": "code",
      "metadata": {
        "id": "Nk4G8z3ss_io",
        "colab": {
          "base_uri": "https://localhost:8080/"
        },
        "outputId": "bac768e0-8591-4d2a-b461-6e9d5de888e5"
      },
      "source": [
        "y_test_preds = tree_1.predict(X_test)\n",
        "print(accuracy_score(y_test, y_test_preds))\n",
        "print(f1_score(y_test, y_test_preds, average='weighted'))"
      ],
      "execution_count": null,
      "outputs": [
        {
          "output_type": "stream",
          "name": "stdout",
          "text": [
            "0.9884216940889702\n",
            "0.9886176213822455\n"
          ]
        }
      ]
    },
    {
      "cell_type": "markdown",
      "metadata": {
        "id": "Img0EFt_3xjR"
      },
      "source": [
        "**[5.2]** Print the confusion matrix for this model on the testing set"
      ]
    },
    {
      "cell_type": "code",
      "metadata": {
        "id": "lu4ptU0R3xr3",
        "colab": {
          "base_uri": "https://localhost:8080/",
          "height": 467
        },
        "outputId": "28f60624-c629-4578-9c10-e4e1e8608177"
      },
      "source": [
        "ConfusionMatrixDisplay.from_estimator(tree_1, X_test, y_test, normalize='true')"
      ],
      "execution_count": null,
      "outputs": [
        {
          "output_type": "execute_result",
          "data": {
            "text/plain": [
              "<sklearn.metrics._plot.confusion_matrix.ConfusionMatrixDisplay at 0x7f447fa703d0>"
            ]
          },
          "metadata": {},
          "execution_count": 39
        },
        {
          "output_type": "display_data",
          "data": {
            "text/plain": [
              "<Figure size 640x480 with 2 Axes>"
            ],
            "image/png": "[encoded data removed]"
          },
          "metadata": {}
        }
      ]
    }
  ]
}