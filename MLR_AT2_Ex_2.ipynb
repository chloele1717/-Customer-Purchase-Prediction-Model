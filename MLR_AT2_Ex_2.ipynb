{
  "cells": [
    {
      "cell_type": "markdown",
      "metadata": {
        "id": "jWAeRQIfG-hW"
      },
      "source": [
        "## Experiment 2: Binary Classification with SVM\n",
        "\n",
        "In this exercise, you will train a binary classifier using Support Vector Machine.\n",
        "\n",
        "Dataset can be downloaded https://drive.google.com/drive/folders/1_50s_IxJsABTRFTWBR0XjuSOnDL4YFuQ\n",
        "\n",
        "The steps are:\n",
        "1.   Load and explore dataset\n",
        "2.   Data preparation\n",
        "3.   Split data\n",
        "4.   Scale data\n",
        "5.   Assess baseline model\n",
        "6.   Train SVC with default Hyperparameter\n",
        "7.   Reduce SVC Overfitting with class weights\n",
        "8.   Reduce SVC Overfitting with C Hyperparameter\n",
        "9.   Reduce SVC Overfitting with C Hyperparameter\n",
        "10.  Reduce SVC Overfitting with C Hyperparameter\n",
        "11.  Assess model on Testing Set"
      ]
    },
    {
      "cell_type": "markdown",
      "metadata": {
        "id": "GeVNxmhDXH5U"
      },
      "source": [
        "## 1. Load and Explore Dataset"
      ]
    },
    {
      "cell_type": "markdown",
      "metadata": {
        "id": "SFN7e-rzXpFy"
      },
      "source": [
        "**[1.1]** Import the pandas and numpy packages"
      ]
    },
    {
      "cell_type": "code",
      "execution_count": null,
      "metadata": {
        "id": "3LYQih7IXs3_"
      },
      "outputs": [],
      "source": [
        "import pandas as pd\n",
        "import numpy as np"
      ]
    },
    {
      "cell_type": "markdown",
      "metadata": {
        "id": "pZ_cqCVKlhhg"
      },
      "source": [
        "**[1.2]** Mounting the drive\n",
        "\n",
        "In this notebook, I'm mounting the Google drive to read a csv file that is stored on my drive. You must allow access to your drive by signing in to your Google account."
      ]
    },
    {
      "cell_type": "code",
      "execution_count": null,
      "metadata": {
        "id": "OuOAx5lDliAb",
        "colab": {
          "base_uri": "https://localhost:8080/"
        },
        "outputId": "4ea82698-f2ee-4d51-8428-cc589dd3bcca"
      },
      "outputs": [
        {
          "output_type": "stream",
          "name": "stdout",
          "text": [
            "Mounted at /content/drive\n"
          ]
        }
      ],
      "source": [
        "from google.colab import drive\n",
        "drive.mount('/content/drive')"
      ]
    },
    {
      "cell_type": "markdown",
      "metadata": {
        "id": "gSUB1HQQllDi"
      },
      "source": [
        "Download the repurchase_training.csv from here: https://drive.google.com/drive/folders/1_50s_IxJsABTRFTWBR0XjuSOnDL4YFuQ\n",
        "\n",
        "Then, copy it to your Google drive folder which contains the notebook"
      ]
    },
    {
      "cell_type": "code",
      "execution_count": null,
      "metadata": {
        "id": "8f1RrW9ylp76",
        "colab": {
          "base_uri": "https://localhost:8080/"
        },
        "outputId": "3d49ab5c-4b5f-4daf-f4d2-9f8626dc1964"
      },
      "outputs": [
        {
          "output_type": "stream",
          "name": "stdout",
          "text": [
            " AT2_default_template.gdoc\n",
            " atlassian_reviews.csv\n",
            " CNN_Articles_2021-2023.csv\n",
            " CNN_Articles_2021-2023.gsheet\n",
            "'Colab Notebooks'\n",
            "'Copy of Data meaning https:  tinyurl.com DSI-Dmean-c (1).gsheet'\n",
            "'Copy of Data meaning https:  tinyurl.com DSI-Dmean-c (2).gsheet'\n",
            "'Copy of Data meaning https:  tinyurl.com DSI-Dmean-c (3).gsheet'\n",
            "'Copy of Data meaning https:  tinyurl.com DSI-Dmean-c.gsheet'\n",
            "'Copy of MLAA - Lecture 1.gslides'\n",
            "'Copy of MLAA - Lecture 2.gslides'\n",
            "'Copy of MLAA - Lecture 5.gslides'\n",
            " data\n",
            "'DSP_AT3 _REPORT.gdoc'\n",
            "'DSP - Lab 4 - Exercise 1 - Solutions.gdoc'\n",
            " DVN_data\n",
            "'Experiment reports'\n",
            "'Experiment reports 2'\n",
            " glassdoor_data\n",
            " Lambda_Project_Report_Draft.gdoc\n",
            " NLP_data\n",
            "'ODI Data Ethics Canvas.gdoc'\n",
            "'Reddit_Data (1).csv'\n",
            " Untitled\n",
            "'Untitled document (1).gdoc'\n",
            "'Untitled document.gdoc'\n"
          ]
        }
      ],
      "source": [
        "# After executing the cell above, Drive files will be present in \"/content/drive/My Drive\". The below command lists the contents in the drive:\n",
        "!ls \"/content/drive/My Drive\""
      ]
    },
    {
      "cell_type": "markdown",
      "metadata": {
        "id": "K7VeL3XCXuuX"
      },
      "source": [
        "**[1.3]** Create a variable called file_url containing the link to the CSV file and load the dataset into dataframe called df"
      ]
    },
    {
      "cell_type": "code",
      "execution_count": null,
      "metadata": {
        "id": "PKkWBSMqXu7q"
      },
      "outputs": [],
      "source": [
        "file_url = '/content/drive/My Drive/data/repurchase_training_cleaned.csv'\n",
        "df = pd.read_csv(file_url)"
      ]
    },
    {
      "cell_type": "code",
      "execution_count": null,
      "metadata": {
        "id": "sWEyEe59d3k8"
      },
      "outputs": [],
      "source": [
        "# Unit Tests\n",
        "assert isinstance(df, pd.DataFrame)"
      ]
    },
    {
      "cell_type": "markdown",
      "metadata": {
        "id": "wb721JdPX_bI"
      },
      "source": [
        "**[1.4]** Display the first 5 rows of df"
      ]
    },
    {
      "cell_type": "code",
      "execution_count": null,
      "metadata": {
        "id": "RufBEUUmX_g2",
        "colab": {
          "base_uri": "https://localhost:8080/",
          "height": 287
        },
        "outputId": "a44bd696-62ab-4cc6-fac9-75071a2650b1"
      },
      "outputs": [
        {
          "output_type": "execute_result",
          "data": {
            "text/plain": [
              "   Unnamed: 0  Target  car_model  car_segment  age_of_vehicle_years  \\\n",
              "0           0       0        0.0          1.0                     9   \n",
              "1           1       0        1.0          0.0                     6   \n",
              "2           2       0        2.0          2.0                     9   \n",
              "3           3       0        2.0          2.0                     5   \n",
              "4           4       0        1.0          0.0                     8   \n",
              "\n",
              "   sched_serv_warr  non_sched_serv_warr  sched_serv_paid  non_sched_serv_paid  \\\n",
              "0                2                   10                3                    7   \n",
              "1               10                    3               10                    4   \n",
              "2               10                    9               10                    9   \n",
              "3                8                    5                8                    4   \n",
              "4                9                    4               10                    7   \n",
              "\n",
              "   total_paid_services  total_services  mth_since_last_serv  \\\n",
              "0                    5               6                    9   \n",
              "1                    9              10                    6   \n",
              "2                   10              10                    7   \n",
              "3                    5               6                    4   \n",
              "4                    9               8                    5   \n",
              "\n",
              "   annualised_mileage  num_dealers_visited  num_serv_dealer_purchased  \\\n",
              "0                   8                   10                          4   \n",
              "1                  10                    7                         10   \n",
              "2                  10                    6                         10   \n",
              "3                  10                    9                          7   \n",
              "4                   4                    4                          9   \n",
              "\n",
              "   gender_0  gender_Female  gender_Male  \n",
              "0         0              0            1  \n",
              "1         1              0            0  \n",
              "2         0              0            1  \n",
              "3         1              0            0  \n",
              "4         0              1            0  "
            ],
            "text/html": [
              "\n",
              "  <div id=\"df-d68a412e-30ad-4224-ac66-628129797ca1\">\n",
              "    <div class=\"colab-df-container\">\n",
              "      <div>\n",
              "<style scoped>\n",
              "    .dataframe tbody tr th:only-of-type {\n",
              "        vertical-align: middle;\n",
              "    }\n",
              "\n",
              "    .dataframe tbody tr th {\n",
              "        vertical-align: top;\n",
              "    }\n",
              "\n",
              "    .dataframe thead th {\n",
              "        text-align: right;\n",
              "    }\n",
              "</style>\n",
              "<table border=\"1\" class=\"dataframe\">\n",
              "  <thead>\n",
              "    <tr style=\"text-align: right;\">\n",
              "      <th></th>\n",
              "      <th>Unnamed: 0</th>\n",
              "      <th>Target</th>\n",
              "      <th>car_model</th>\n",
              "      <th>car_segment</th>\n",
              "      <th>age_of_vehicle_years</th>\n",
              "      <th>sched_serv_warr</th>\n",
              "      <th>non_sched_serv_warr</th>\n",
              "      <th>sched_serv_paid</th>\n",
              "      <th>non_sched_serv_paid</th>\n",
              "      <th>total_paid_services</th>\n",
              "      <th>total_services</th>\n",
              "      <th>mth_since_last_serv</th>\n",
              "      <th>annualised_mileage</th>\n",
              "      <th>num_dealers_visited</th>\n",
              "      <th>num_serv_dealer_purchased</th>\n",
              "      <th>gender_0</th>\n",
              "      <th>gender_Female</th>\n",
              "      <th>gender_Male</th>\n",
              "    </tr>\n",
              "  </thead>\n",
              "  <tbody>\n",
              "    <tr>\n",
              "      <th>0</th>\n",
              "      <td>0</td>\n",
              "      <td>0</td>\n",
              "      <td>0.0</td>\n",
              "      <td>1.0</td>\n",
              "      <td>9</td>\n",
              "      <td>2</td>\n",
              "      <td>10</td>\n",
              "      <td>3</td>\n",
              "      <td>7</td>\n",
              "      <td>5</td>\n",
              "      <td>6</td>\n",
              "      <td>9</td>\n",
              "      <td>8</td>\n",
              "      <td>10</td>\n",
              "      <td>4</td>\n",
              "      <td>0</td>\n",
              "      <td>0</td>\n",
              "      <td>1</td>\n",
              "    </tr>\n",
              "    <tr>\n",
              "      <th>1</th>\n",
              "      <td>1</td>\n",
              "      <td>0</td>\n",
              "      <td>1.0</td>\n",
              "      <td>0.0</td>\n",
              "      <td>6</td>\n",
              "      <td>10</td>\n",
              "      <td>3</td>\n",
              "      <td>10</td>\n",
              "      <td>4</td>\n",
              "      <td>9</td>\n",
              "      <td>10</td>\n",
              "      <td>6</td>\n",
              "      <td>10</td>\n",
              "      <td>7</td>\n",
              "      <td>10</td>\n",
              "      <td>1</td>\n",
              "      <td>0</td>\n",
              "      <td>0</td>\n",
              "    </tr>\n",
              "    <tr>\n",
              "      <th>2</th>\n",
              "      <td>2</td>\n",
              "      <td>0</td>\n",
              "      <td>2.0</td>\n",
              "      <td>2.0</td>\n",
              "      <td>9</td>\n",
              "      <td>10</td>\n",
              "      <td>9</td>\n",
              "      <td>10</td>\n",
              "      <td>9</td>\n",
              "      <td>10</td>\n",
              "      <td>10</td>\n",
              "      <td>7</td>\n",
              "      <td>10</td>\n",
              "      <td>6</td>\n",
              "      <td>10</td>\n",
              "      <td>0</td>\n",
              "      <td>0</td>\n",
              "      <td>1</td>\n",
              "    </tr>\n",
              "    <tr>\n",
              "      <th>3</th>\n",
              "      <td>3</td>\n",
              "      <td>0</td>\n",
              "      <td>2.0</td>\n",
              "      <td>2.0</td>\n",
              "      <td>5</td>\n",
              "      <td>8</td>\n",
              "      <td>5</td>\n",
              "      <td>8</td>\n",
              "      <td>4</td>\n",
              "      <td>5</td>\n",
              "      <td>6</td>\n",
              "      <td>4</td>\n",
              "      <td>10</td>\n",
              "      <td>9</td>\n",
              "      <td>7</td>\n",
              "      <td>1</td>\n",
              "      <td>0</td>\n",
              "      <td>0</td>\n",
              "    </tr>\n",
              "    <tr>\n",
              "      <th>4</th>\n",
              "      <td>4</td>\n",
              "      <td>0</td>\n",
              "      <td>1.0</td>\n",
              "      <td>0.0</td>\n",
              "      <td>8</td>\n",
              "      <td>9</td>\n",
              "      <td>4</td>\n",
              "      <td>10</td>\n",
              "      <td>7</td>\n",
              "      <td>9</td>\n",
              "      <td>8</td>\n",
              "      <td>5</td>\n",
              "      <td>4</td>\n",
              "      <td>4</td>\n",
              "      <td>9</td>\n",
              "      <td>0</td>\n",
              "      <td>1</td>\n",
              "      <td>0</td>\n",
              "    </tr>\n",
              "  </tbody>\n",
              "</table>\n",
              "</div>\n",
              "      <button class=\"colab-df-convert\" onclick=\"convertToInteractive('df-d68a412e-30ad-4224-ac66-628129797ca1')\"\n",
              "              title=\"Convert this dataframe to an interactive table.\"\n",
              "              style=\"display:none;\">\n",
              "        \n",
              "  <svg xmlns=\"http://www.w3.org/2000/svg\" height=\"24px\"viewBox=\"0 0 24 24\"\n",
              "       width=\"24px\">\n",
              "    <path d=\"M0 0h24v24H0V0z\" fill=\"none\"/>\n",
              "    <path d=\"M18.56 5.44l.94 2.06.94-2.06 2.06-.94-2.06-.94-.94-2.06-.94 2.06-2.06.94zm-11 1L8.5 8.5l.94-2.06 2.06-.94-2.06-.94L8.5 2.5l-.94 2.06-2.06.94zm10 10l.94 2.06.94-2.06 2.06-.94-2.06-.94-.94-2.06-.94 2.06-2.06.94z\"/><path d=\"M17.41 7.96l-1.37-1.37c-.4-.4-.92-.59-1.43-.59-.52 0-1.04.2-1.43.59L10.3 9.45l-7.72 7.72c-.78.78-.78 2.05 0 2.83L4 21.41c.39.39.9.59 1.41.59.51 0 1.02-.2 1.41-.59l7.78-7.78 2.81-2.81c.8-.78.8-2.07 0-2.86zM5.41 20L4 18.59l7.72-7.72 1.47 1.35L5.41 20z\"/>\n",
              "  </svg>\n",
              "      </button>\n",
              "      \n",
              "  <style>\n",
              "    .colab-df-container {\n",
              "      display:flex;\n",
              "      flex-wrap:wrap;\n",
              "      gap: 12px;\n",
              "    }\n",
              "\n",
              "    .colab-df-convert {\n",
              "      background-color: #E8F0FE;\n",
              "      border: none;\n",
              "      border-radius: 50%;\n",
              "      cursor: pointer;\n",
              "      display: none;\n",
              "      fill: #1967D2;\n",
              "      height: 32px;\n",
              "      padding: 0 0 0 0;\n",
              "      width: 32px;\n",
              "    }\n",
              "\n",
              "    .colab-df-convert:hover {\n",
              "      background-color: #E2EBFA;\n",
              "      box-shadow: 0px 1px 2px rgba(60, 64, 67, 0.3), 0px 1px 3px 1px rgba(60, 64, 67, 0.15);\n",
              "      fill: #174EA6;\n",
              "    }\n",
              "\n",
              "    [theme=dark] .colab-df-convert {\n",
              "      background-color: #3B4455;\n",
              "      fill: #D2E3FC;\n",
              "    }\n",
              "\n",
              "    [theme=dark] .colab-df-convert:hover {\n",
              "      background-color: #434B5C;\n",
              "      box-shadow: 0px 1px 3px 1px rgba(0, 0, 0, 0.15);\n",
              "      filter: drop-shadow(0px 1px 2px rgba(0, 0, 0, 0.3));\n",
              "      fill: #FFFFFF;\n",
              "    }\n",
              "  </style>\n",
              "\n",
              "      <script>\n",
              "        const buttonEl =\n",
              "          document.querySelector('#df-d68a412e-30ad-4224-ac66-628129797ca1 button.colab-df-convert');\n",
              "        buttonEl.style.display =\n",
              "          google.colab.kernel.accessAllowed ? 'block' : 'none';\n",
              "\n",
              "        async function convertToInteractive(key) {\n",
              "          const element = document.querySelector('#df-d68a412e-30ad-4224-ac66-628129797ca1');\n",
              "          const dataTable =\n",
              "            await google.colab.kernel.invokeFunction('convertToInteractive',\n",
              "                                                     [key], {});\n",
              "          if (!dataTable) return;\n",
              "\n",
              "          const docLinkHtml = 'Like what you see? Visit the ' +\n",
              "            '<a target=\"_blank\" href=https://colab.research.google.com/notebooks/data_table.ipynb>data table notebook</a>'\n",
              "            + ' to learn more about interactive tables.';\n",
              "          element.innerHTML = '';\n",
              "          dataTable['output_type'] = 'display_data';\n",
              "          await google.colab.output.renderOutput(dataTable, element);\n",
              "          const docLink = document.createElement('div');\n",
              "          docLink.innerHTML = docLinkHtml;\n",
              "          element.appendChild(docLink);\n",
              "        }\n",
              "      </script>\n",
              "    </div>\n",
              "  </div>\n",
              "  "
            ]
          },
          "metadata": {},
          "execution_count": 6
        }
      ],
      "source": [
        "df.head()"
      ]
    },
    {
      "cell_type": "markdown",
      "metadata": {
        "id": "YLsCp9UsYHUC"
      },
      "source": [
        "**[1.5]** Display the dimensions (shape) of df"
      ]
    },
    {
      "cell_type": "code",
      "execution_count": null,
      "metadata": {
        "id": "TdbObU_jYHce",
        "colab": {
          "base_uri": "https://localhost:8080/"
        },
        "outputId": "1d400052-bd4b-46c9-937b-2200f4e4a877"
      },
      "outputs": [
        {
          "output_type": "execute_result",
          "data": {
            "text/plain": [
              "(131279, 18)"
            ]
          },
          "metadata": {},
          "execution_count": 7
        }
      ],
      "source": [
        "df.shape"
      ]
    },
    {
      "cell_type": "markdown",
      "metadata": {
        "id": "WbOGn9hjYMvF"
      },
      "source": [
        "**[1.6]** Display the summary (info) of df"
      ]
    },
    {
      "cell_type": "code",
      "execution_count": null,
      "metadata": {
        "id": "OiSOgO-nYM3a",
        "colab": {
          "base_uri": "https://localhost:8080/"
        },
        "outputId": "9bd5e6c9-0831-4b47-f55c-43ca79db171a"
      },
      "outputs": [
        {
          "output_type": "stream",
          "name": "stdout",
          "text": [
            "<class 'pandas.core.frame.DataFrame'>\n",
            "RangeIndex: 131279 entries, 0 to 131278\n",
            "Data columns (total 18 columns):\n",
            " #   Column                     Non-Null Count   Dtype  \n",
            "---  ------                     --------------   -----  \n",
            " 0   Unnamed: 0                 131279 non-null  int64  \n",
            " 1   Target                     131279 non-null  int64  \n",
            " 2   car_model                  131279 non-null  float64\n",
            " 3   car_segment                131279 non-null  float64\n",
            " 4   age_of_vehicle_years       131279 non-null  int64  \n",
            " 5   sched_serv_warr            131279 non-null  int64  \n",
            " 6   non_sched_serv_warr        131279 non-null  int64  \n",
            " 7   sched_serv_paid            131279 non-null  int64  \n",
            " 8   non_sched_serv_paid        131279 non-null  int64  \n",
            " 9   total_paid_services        131279 non-null  int64  \n",
            " 10  total_services             131279 non-null  int64  \n",
            " 11  mth_since_last_serv        131279 non-null  int64  \n",
            " 12  annualised_mileage         131279 non-null  int64  \n",
            " 13  num_dealers_visited        131279 non-null  int64  \n",
            " 14  num_serv_dealer_purchased  131279 non-null  int64  \n",
            " 15  gender_0                   131279 non-null  int64  \n",
            " 16  gender_Female              131279 non-null  int64  \n",
            " 17  gender_Male                131279 non-null  int64  \n",
            "dtypes: float64(2), int64(16)\n",
            "memory usage: 18.0 MB\n"
          ]
        }
      ],
      "source": [
        "df.info()"
      ]
    },
    {
      "cell_type": "markdown",
      "metadata": {
        "id": "-FDlMHfaYRl0"
      },
      "source": [
        "**[1.7]** Display the descriptive statictics of df\n"
      ]
    },
    {
      "cell_type": "code",
      "execution_count": null,
      "metadata": {
        "id": "OfTeLJg9YRtk",
        "colab": {
          "base_uri": "https://localhost:8080/",
          "height": 364
        },
        "outputId": "43fd4931-f7bb-42a2-fd9a-292ecb9ad2ad"
      },
      "outputs": [
        {
          "output_type": "execute_result",
          "data": {
            "text/plain": [
              "          Unnamed: 0         Target      car_model    car_segment  \\\n",
              "count  131279.000000  131279.000000  131279.000000  131279.000000   \n",
              "mean    65670.174407       0.026813       2.980340       0.981467   \n",
              "std     37913.357177       0.161538       2.581776       0.901238   \n",
              "min         0.000000       0.000000       0.000000       0.000000   \n",
              "25%     32837.500000       0.000000       1.000000       0.000000   \n",
              "50%     65672.000000       0.000000       2.000000       1.000000   \n",
              "75%     98499.500000       0.000000       4.000000       2.000000   \n",
              "max    131336.000000       1.000000      17.000000       2.000000   \n",
              "\n",
              "       age_of_vehicle_years  sched_serv_warr  non_sched_serv_warr  \\\n",
              "count         131279.000000    131279.000000        131279.000000   \n",
              "mean               5.494108         5.454071             5.473891   \n",
              "std                2.842468         2.883944             2.870335   \n",
              "min                1.000000         1.000000             1.000000   \n",
              "25%                3.000000         3.000000             3.000000   \n",
              "50%                5.000000         5.000000             5.000000   \n",
              "75%                8.000000         8.000000             8.000000   \n",
              "max               10.000000        10.000000            10.000000   \n",
              "\n",
              "       sched_serv_paid  non_sched_serv_paid  total_paid_services  \\\n",
              "count    131279.000000        131279.000000        131279.000000   \n",
              "mean          5.453843             5.498336             5.483360   \n",
              "std           2.886114             2.878435             2.879763   \n",
              "min           1.000000             1.000000             1.000000   \n",
              "25%           3.000000             3.000000             3.000000   \n",
              "50%           5.000000             5.000000             5.000000   \n",
              "75%           8.000000             8.000000             8.000000   \n",
              "max          10.000000            10.000000            10.000000   \n",
              "\n",
              "       total_services  mth_since_last_serv  annualised_mileage  \\\n",
              "count   131279.000000        131279.000000       131279.000000   \n",
              "mean         5.456676             5.471355            5.504475   \n",
              "std          2.875332             2.859098            2.854379   \n",
              "min          1.000000             1.000000            1.000000   \n",
              "25%          3.000000             3.000000            3.000000   \n",
              "50%          5.000000             5.000000            5.000000   \n",
              "75%          8.000000             8.000000            8.000000   \n",
              "max         10.000000            10.000000           10.000000   \n",
              "\n",
              "       num_dealers_visited  num_serv_dealer_purchased       gender_0  \\\n",
              "count        131279.000000              131279.000000  131279.000000   \n",
              "mean              5.486978                   5.482286       0.527876   \n",
              "std               2.876378                   2.867210       0.499224   \n",
              "min               1.000000                   1.000000       0.000000   \n",
              "25%               3.000000                   3.000000       0.000000   \n",
              "50%               5.000000                   5.000000       1.000000   \n",
              "75%               8.000000                   8.000000       1.000000   \n",
              "max              10.000000                  10.000000       1.000000   \n",
              "\n",
              "       gender_Female    gender_Male  \n",
              "count  131279.000000  131279.000000  \n",
              "mean        0.197511       0.274614  \n",
              "std         0.398122       0.446321  \n",
              "min         0.000000       0.000000  \n",
              "25%         0.000000       0.000000  \n",
              "50%         0.000000       0.000000  \n",
              "75%         0.000000       1.000000  \n",
              "max         1.000000       1.000000  "
            ],
            "text/html": [
              "\n",
              "  <div id=\"df-f9d8a867-5a95-4402-8b6b-68432e2fb747\">\n",
              "    <div class=\"colab-df-container\">\n",
              "      <div>\n",
              "<style scoped>\n",
              "    .dataframe tbody tr th:only-of-type {\n",
              "        vertical-align: middle;\n",
              "    }\n",
              "\n",
              "    .dataframe tbody tr th {\n",
              "        vertical-align: top;\n",
              "    }\n",
              "\n",
              "    .dataframe thead th {\n",
              "        text-align: right;\n",
              "    }\n",
              "</style>\n",
              "<table border=\"1\" class=\"dataframe\">\n",
              "  <thead>\n",
              "    <tr style=\"text-align: right;\">\n",
              "      <th></th>\n",
              "      <th>Unnamed: 0</th>\n",
              "      <th>Target</th>\n",
              "      <th>car_model</th>\n",
              "      <th>car_segment</th>\n",
              "      <th>age_of_vehicle_years</th>\n",
              "      <th>sched_serv_warr</th>\n",
              "      <th>non_sched_serv_warr</th>\n",
              "      <th>sched_serv_paid</th>\n",
              "      <th>non_sched_serv_paid</th>\n",
              "      <th>total_paid_services</th>\n",
              "      <th>total_services</th>\n",
              "      <th>mth_since_last_serv</th>\n",
              "      <th>annualised_mileage</th>\n",
              "      <th>num_dealers_visited</th>\n",
              "      <th>num_serv_dealer_purchased</th>\n",
              "      <th>gender_0</th>\n",
              "      <th>gender_Female</th>\n",
              "      <th>gender_Male</th>\n",
              "    </tr>\n",
              "  </thead>\n",
              "  <tbody>\n",
              "    <tr>\n",
              "      <th>count</th>\n",
              "      <td>131279.000000</td>\n",
              "      <td>131279.000000</td>\n",
              "      <td>131279.000000</td>\n",
              "      <td>131279.000000</td>\n",
              "      <td>131279.000000</td>\n",
              "      <td>131279.000000</td>\n",
              "      <td>131279.000000</td>\n",
              "      <td>131279.000000</td>\n",
              "      <td>131279.000000</td>\n",
              "      <td>131279.000000</td>\n",
              "      <td>131279.000000</td>\n",
              "      <td>131279.000000</td>\n",
              "      <td>131279.000000</td>\n",
              "      <td>131279.000000</td>\n",
              "      <td>131279.000000</td>\n",
              "      <td>131279.000000</td>\n",
              "      <td>131279.000000</td>\n",
              "      <td>131279.000000</td>\n",
              "    </tr>\n",
              "    <tr>\n",
              "      <th>mean</th>\n",
              "      <td>65670.174407</td>\n",
              "      <td>0.026813</td>\n",
              "      <td>2.980340</td>\n",
              "      <td>0.981467</td>\n",
              "      <td>5.494108</td>\n",
              "      <td>5.454071</td>\n",
              "      <td>5.473891</td>\n",
              "      <td>5.453843</td>\n",
              "      <td>5.498336</td>\n",
              "      <td>5.483360</td>\n",
              "      <td>5.456676</td>\n",
              "      <td>5.471355</td>\n",
              "      <td>5.504475</td>\n",
              "      <td>5.486978</td>\n",
              "      <td>5.482286</td>\n",
              "      <td>0.527876</td>\n",
              "      <td>0.197511</td>\n",
              "      <td>0.274614</td>\n",
              "    </tr>\n",
              "    <tr>\n",
              "      <th>std</th>\n",
              "      <td>37913.357177</td>\n",
              "      <td>0.161538</td>\n",
              "      <td>2.581776</td>\n",
              "      <td>0.901238</td>\n",
              "      <td>2.842468</td>\n",
              "      <td>2.883944</td>\n",
              "      <td>2.870335</td>\n",
              "      <td>2.886114</td>\n",
              "      <td>2.878435</td>\n",
              "      <td>2.879763</td>\n",
              "      <td>2.875332</td>\n",
              "      <td>2.859098</td>\n",
              "      <td>2.854379</td>\n",
              "      <td>2.876378</td>\n",
              "      <td>2.867210</td>\n",
              "      <td>0.499224</td>\n",
              "      <td>0.398122</td>\n",
              "      <td>0.446321</td>\n",
              "    </tr>\n",
              "    <tr>\n",
              "      <th>min</th>\n",
              "      <td>0.000000</td>\n",
              "      <td>0.000000</td>\n",
              "      <td>0.000000</td>\n",
              "      <td>0.000000</td>\n",
              "      <td>1.000000</td>\n",
              "      <td>1.000000</td>\n",
              "      <td>1.000000</td>\n",
              "      <td>1.000000</td>\n",
              "      <td>1.000000</td>\n",
              "      <td>1.000000</td>\n",
              "      <td>1.000000</td>\n",
              "      <td>1.000000</td>\n",
              "      <td>1.000000</td>\n",
              "      <td>1.000000</td>\n",
              "      <td>1.000000</td>\n",
              "      <td>0.000000</td>\n",
              "      <td>0.000000</td>\n",
              "      <td>0.000000</td>\n",
              "    </tr>\n",
              "    <tr>\n",
              "      <th>25%</th>\n",
              "      <td>32837.500000</td>\n",
              "      <td>0.000000</td>\n",
              "      <td>1.000000</td>\n",
              "      <td>0.000000</td>\n",
              "      <td>3.000000</td>\n",
              "      <td>3.000000</td>\n",
              "      <td>3.000000</td>\n",
              "      <td>3.000000</td>\n",
              "      <td>3.000000</td>\n",
              "      <td>3.000000</td>\n",
              "      <td>3.000000</td>\n",
              "      <td>3.000000</td>\n",
              "      <td>3.000000</td>\n",
              "      <td>3.000000</td>\n",
              "      <td>3.000000</td>\n",
              "      <td>0.000000</td>\n",
              "      <td>0.000000</td>\n",
              "      <td>0.000000</td>\n",
              "    </tr>\n",
              "    <tr>\n",
              "      <th>50%</th>\n",
              "      <td>65672.000000</td>\n",
              "      <td>0.000000</td>\n",
              "      <td>2.000000</td>\n",
              "      <td>1.000000</td>\n",
              "      <td>5.000000</td>\n",
              "      <td>5.000000</td>\n",
              "      <td>5.000000</td>\n",
              "      <td>5.000000</td>\n",
              "      <td>5.000000</td>\n",
              "      <td>5.000000</td>\n",
              "      <td>5.000000</td>\n",
              "      <td>5.000000</td>\n",
              "      <td>5.000000</td>\n",
              "      <td>5.000000</td>\n",
              "      <td>5.000000</td>\n",
              "      <td>1.000000</td>\n",
              "      <td>0.000000</td>\n",
              "      <td>0.000000</td>\n",
              "    </tr>\n",
              "    <tr>\n",
              "      <th>75%</th>\n",
              "      <td>98499.500000</td>\n",
              "      <td>0.000000</td>\n",
              "      <td>4.000000</td>\n",
              "      <td>2.000000</td>\n",
              "      <td>8.000000</td>\n",
              "      <td>8.000000</td>\n",
              "      <td>8.000000</td>\n",
              "      <td>8.000000</td>\n",
              "      <td>8.000000</td>\n",
              "      <td>8.000000</td>\n",
              "      <td>8.000000</td>\n",
              "      <td>8.000000</td>\n",
              "      <td>8.000000</td>\n",
              "      <td>8.000000</td>\n",
              "      <td>8.000000</td>\n",
              "      <td>1.000000</td>\n",
              "      <td>0.000000</td>\n",
              "      <td>1.000000</td>\n",
              "    </tr>\n",
              "    <tr>\n",
              "      <th>max</th>\n",
              "      <td>131336.000000</td>\n",
              "      <td>1.000000</td>\n",
              "      <td>17.000000</td>\n",
              "      <td>2.000000</td>\n",
              "      <td>10.000000</td>\n",
              "      <td>10.000000</td>\n",
              "      <td>10.000000</td>\n",
              "      <td>10.000000</td>\n",
              "      <td>10.000000</td>\n",
              "      <td>10.000000</td>\n",
              "      <td>10.000000</td>\n",
              "      <td>10.000000</td>\n",
              "      <td>10.000000</td>\n",
              "      <td>10.000000</td>\n",
              "      <td>10.000000</td>\n",
              "      <td>1.000000</td>\n",
              "      <td>1.000000</td>\n",
              "      <td>1.000000</td>\n",
              "    </tr>\n",
              "  </tbody>\n",
              "</table>\n",
              "</div>\n",
              "      <button class=\"colab-df-convert\" onclick=\"convertToInteractive('df-f9d8a867-5a95-4402-8b6b-68432e2fb747')\"\n",
              "              title=\"Convert this dataframe to an interactive table.\"\n",
              "              style=\"display:none;\">\n",
              "        \n",
              "  <svg xmlns=\"http://www.w3.org/2000/svg\" height=\"24px\"viewBox=\"0 0 24 24\"\n",
              "       width=\"24px\">\n",
              "    <path d=\"M0 0h24v24H0V0z\" fill=\"none\"/>\n",
              "    <path d=\"M18.56 5.44l.94 2.06.94-2.06 2.06-.94-2.06-.94-.94-2.06-.94 2.06-2.06.94zm-11 1L8.5 8.5l.94-2.06 2.06-.94-2.06-.94L8.5 2.5l-.94 2.06-2.06.94zm10 10l.94 2.06.94-2.06 2.06-.94-2.06-.94-.94-2.06-.94 2.06-2.06.94z\"/><path d=\"M17.41 7.96l-1.37-1.37c-.4-.4-.92-.59-1.43-.59-.52 0-1.04.2-1.43.59L10.3 9.45l-7.72 7.72c-.78.78-.78 2.05 0 2.83L4 21.41c.39.39.9.59 1.41.59.51 0 1.02-.2 1.41-.59l7.78-7.78 2.81-2.81c.8-.78.8-2.07 0-2.86zM5.41 20L4 18.59l7.72-7.72 1.47 1.35L5.41 20z\"/>\n",
              "  </svg>\n",
              "      </button>\n",
              "      \n",
              "  <style>\n",
              "    .colab-df-container {\n",
              "      display:flex;\n",
              "      flex-wrap:wrap;\n",
              "      gap: 12px;\n",
              "    }\n",
              "\n",
              "    .colab-df-convert {\n",
              "      background-color: #E8F0FE;\n",
              "      border: none;\n",
              "      border-radius: 50%;\n",
              "      cursor: pointer;\n",
              "      display: none;\n",
              "      fill: #1967D2;\n",
              "      height: 32px;\n",
              "      padding: 0 0 0 0;\n",
              "      width: 32px;\n",
              "    }\n",
              "\n",
              "    .colab-df-convert:hover {\n",
              "      background-color: #E2EBFA;\n",
              "      box-shadow: 0px 1px 2px rgba(60, 64, 67, 0.3), 0px 1px 3px 1px rgba(60, 64, 67, 0.15);\n",
              "      fill: #174EA6;\n",
              "    }\n",
              "\n",
              "    [theme=dark] .colab-df-convert {\n",
              "      background-color: #3B4455;\n",
              "      fill: #D2E3FC;\n",
              "    }\n",
              "\n",
              "    [theme=dark] .colab-df-convert:hover {\n",
              "      background-color: #434B5C;\n",
              "      box-shadow: 0px 1px 3px 1px rgba(0, 0, 0, 0.15);\n",
              "      filter: drop-shadow(0px 1px 2px rgba(0, 0, 0, 0.3));\n",
              "      fill: #FFFFFF;\n",
              "    }\n",
              "  </style>\n",
              "\n",
              "      <script>\n",
              "        const buttonEl =\n",
              "          document.querySelector('#df-f9d8a867-5a95-4402-8b6b-68432e2fb747 button.colab-df-convert');\n",
              "        buttonEl.style.display =\n",
              "          google.colab.kernel.accessAllowed ? 'block' : 'none';\n",
              "\n",
              "        async function convertToInteractive(key) {\n",
              "          const element = document.querySelector('#df-f9d8a867-5a95-4402-8b6b-68432e2fb747');\n",
              "          const dataTable =\n",
              "            await google.colab.kernel.invokeFunction('convertToInteractive',\n",
              "                                                     [key], {});\n",
              "          if (!dataTable) return;\n",
              "\n",
              "          const docLinkHtml = 'Like what you see? Visit the ' +\n",
              "            '<a target=\"_blank\" href=https://colab.research.google.com/notebooks/data_table.ipynb>data table notebook</a>'\n",
              "            + ' to learn more about interactive tables.';\n",
              "          element.innerHTML = '';\n",
              "          dataTable['output_type'] = 'display_data';\n",
              "          await google.colab.output.renderOutput(dataTable, element);\n",
              "          const docLink = document.createElement('div');\n",
              "          docLink.innerHTML = docLinkHtml;\n",
              "          element.appendChild(docLink);\n",
              "        }\n",
              "      </script>\n",
              "    </div>\n",
              "  </div>\n",
              "  "
            ]
          },
          "metadata": {},
          "execution_count": 9
        }
      ],
      "source": [
        "df.describe()"
      ]
    },
    {
      "cell_type": "markdown",
      "metadata": {
        "id": "V1oMhIWVhm9R"
      },
      "source": [
        "**[1.8]** Create a for loop that will iterate through each columns and print their list of unique values"
      ]
    },
    {
      "cell_type": "code",
      "execution_count": null,
      "metadata": {
        "id": "feVW6t5XhwiN",
        "colab": {
          "base_uri": "https://localhost:8080/"
        },
        "outputId": "cd0d0555-fef7-4d18-af2a-b158f79dbec8"
      },
      "outputs": [
        {
          "output_type": "stream",
          "name": "stdout",
          "text": [
            "Unnamed: 0\n",
            "[     0      1      2 ... 131334 131335 131336]\n",
            "Target\n",
            "[0 1]\n",
            "car_model\n",
            "[ 0.  1.  2.  4.  5.  3.  6.  7.  8.  9. 10. 12. 11. 13. 14. 15. 16. 17.]\n",
            "car_segment\n",
            "[1. 0. 2.]\n",
            "age_of_vehicle_years\n",
            "[ 9  6  5  8  7  1  3  4 10  2]\n",
            "sched_serv_warr\n",
            "[ 2 10  8  9  4  1  3  7  5  6]\n",
            "non_sched_serv_warr\n",
            "[10  3  9  5  4  8  1  6  2  7]\n",
            "sched_serv_paid\n",
            "[ 3 10  8  5  2  6  1  4  9  7]\n",
            "non_sched_serv_paid\n",
            "[ 7  4  9  3  1  2  6  5 10  8]\n",
            "total_paid_services\n",
            "[ 5  9 10  6  8  1  2  7  3  4]\n",
            "total_services\n",
            "[ 6 10  8  4  2  1  3  5  9  7]\n",
            "mth_since_last_serv\n",
            "[ 9  6  7  4  5  8  1  3 10  2]\n",
            "annualised_mileage\n",
            "[ 8 10  4  5  6  1  7  3  9  2]\n",
            "num_dealers_visited\n",
            "[10  7  6  9  4  5  2  1  3  8]\n",
            "num_serv_dealer_purchased\n",
            "[ 4 10  7  9  8  3  1  6  2  5]\n",
            "gender_0\n",
            "[0 1]\n",
            "gender_Female\n",
            "[0 1]\n",
            "gender_Male\n",
            "[1 0]\n"
          ]
        }
      ],
      "source": [
        "for col in df.columns:\n",
        "  print(col)\n",
        "  print(df[col].unique())"
      ]
    },
    {
      "cell_type": "markdown",
      "metadata": {
        "id": "az2czyPXiX2j"
      },
      "source": [
        "## 2. Data Preparation"
      ]
    },
    {
      "cell_type": "markdown",
      "metadata": {
        "id": "nh1smnBcFloq"
      },
      "source": [
        "**[2.1]** Create a copy of df and save it into a variable called df_cleaned"
      ]
    },
    {
      "cell_type": "code",
      "execution_count": null,
      "metadata": {
        "id": "Et9_BPHmfJfF"
      },
      "outputs": [],
      "source": [
        "df_cleaned = df.copy()"
      ]
    },
    {
      "cell_type": "code",
      "execution_count": null,
      "metadata": {
        "id": "cBvzgFsceAe-"
      },
      "outputs": [],
      "source": [
        "# Unit Tests\n",
        "assert isinstance(df_cleaned, pd.DataFrame)\n",
        "assert df_cleaned.shape == df.shape"
      ]
    },
    {
      "cell_type": "markdown",
      "metadata": {
        "id": "WZwaM9lXnSyP"
      },
      "source": [
        "**[2.2]** Dropping \"Unnamed: 0\" column"
      ]
    },
    {
      "cell_type": "code",
      "execution_count": null,
      "metadata": {
        "id": "DEq1Qzu5pXwN"
      },
      "outputs": [],
      "source": [
        "df_cleaned = df_cleaned.drop('Unnamed: 0', axis='columns')"
      ]
    },
    {
      "cell_type": "markdown",
      "metadata": {
        "id": "FbUN6uUHpjmB"
      },
      "source": [
        "**[2.3]** Display the head of the dataframe"
      ]
    },
    {
      "cell_type": "code",
      "execution_count": null,
      "metadata": {
        "id": "e09OpwnXpt-c",
        "colab": {
          "base_uri": "https://localhost:8080/",
          "height": 270
        },
        "outputId": "55f101b0-fe51-4a73-f4c6-cbbc96fdab7e"
      },
      "outputs": [
        {
          "output_type": "execute_result",
          "data": {
            "text/plain": [
              "   Target  car_model  car_segment  age_of_vehicle_years  sched_serv_warr  \\\n",
              "0       0        0.0          1.0                     9                2   \n",
              "1       0        1.0          0.0                     6               10   \n",
              "2       0        2.0          2.0                     9               10   \n",
              "3       0        2.0          2.0                     5                8   \n",
              "4       0        1.0          0.0                     8                9   \n",
              "\n",
              "   non_sched_serv_warr  sched_serv_paid  non_sched_serv_paid  \\\n",
              "0                   10                3                    7   \n",
              "1                    3               10                    4   \n",
              "2                    9               10                    9   \n",
              "3                    5                8                    4   \n",
              "4                    4               10                    7   \n",
              "\n",
              "   total_paid_services  total_services  mth_since_last_serv  \\\n",
              "0                    5               6                    9   \n",
              "1                    9              10                    6   \n",
              "2                   10              10                    7   \n",
              "3                    5               6                    4   \n",
              "4                    9               8                    5   \n",
              "\n",
              "   annualised_mileage  num_dealers_visited  num_serv_dealer_purchased  \\\n",
              "0                   8                   10                          4   \n",
              "1                  10                    7                         10   \n",
              "2                  10                    6                         10   \n",
              "3                  10                    9                          7   \n",
              "4                   4                    4                          9   \n",
              "\n",
              "   gender_0  gender_Female  gender_Male  \n",
              "0         0              0            1  \n",
              "1         1              0            0  \n",
              "2         0              0            1  \n",
              "3         1              0            0  \n",
              "4         0              1            0  "
            ],
            "text/html": [
              "\n",
              "  <div id=\"df-54e9c1db-8a48-4d2d-905d-a06445445948\">\n",
              "    <div class=\"colab-df-container\">\n",
              "      <div>\n",
              "<style scoped>\n",
              "    .dataframe tbody tr th:only-of-type {\n",
              "        vertical-align: middle;\n",
              "    }\n",
              "\n",
              "    .dataframe tbody tr th {\n",
              "        vertical-align: top;\n",
              "    }\n",
              "\n",
              "    .dataframe thead th {\n",
              "        text-align: right;\n",
              "    }\n",
              "</style>\n",
              "<table border=\"1\" class=\"dataframe\">\n",
              "  <thead>\n",
              "    <tr style=\"text-align: right;\">\n",
              "      <th></th>\n",
              "      <th>Target</th>\n",
              "      <th>car_model</th>\n",
              "      <th>car_segment</th>\n",
              "      <th>age_of_vehicle_years</th>\n",
              "      <th>sched_serv_warr</th>\n",
              "      <th>non_sched_serv_warr</th>\n",
              "      <th>sched_serv_paid</th>\n",
              "      <th>non_sched_serv_paid</th>\n",
              "      <th>total_paid_services</th>\n",
              "      <th>total_services</th>\n",
              "      <th>mth_since_last_serv</th>\n",
              "      <th>annualised_mileage</th>\n",
              "      <th>num_dealers_visited</th>\n",
              "      <th>num_serv_dealer_purchased</th>\n",
              "      <th>gender_0</th>\n",
              "      <th>gender_Female</th>\n",
              "      <th>gender_Male</th>\n",
              "    </tr>\n",
              "  </thead>\n",
              "  <tbody>\n",
              "    <tr>\n",
              "      <th>0</th>\n",
              "      <td>0</td>\n",
              "      <td>0.0</td>\n",
              "      <td>1.0</td>\n",
              "      <td>9</td>\n",
              "      <td>2</td>\n",
              "      <td>10</td>\n",
              "      <td>3</td>\n",
              "      <td>7</td>\n",
              "      <td>5</td>\n",
              "      <td>6</td>\n",
              "      <td>9</td>\n",
              "      <td>8</td>\n",
              "      <td>10</td>\n",
              "      <td>4</td>\n",
              "      <td>0</td>\n",
              "      <td>0</td>\n",
              "      <td>1</td>\n",
              "    </tr>\n",
              "    <tr>\n",
              "      <th>1</th>\n",
              "      <td>0</td>\n",
              "      <td>1.0</td>\n",
              "      <td>0.0</td>\n",
              "      <td>6</td>\n",
              "      <td>10</td>\n",
              "      <td>3</td>\n",
              "      <td>10</td>\n",
              "      <td>4</td>\n",
              "      <td>9</td>\n",
              "      <td>10</td>\n",
              "      <td>6</td>\n",
              "      <td>10</td>\n",
              "      <td>7</td>\n",
              "      <td>10</td>\n",
              "      <td>1</td>\n",
              "      <td>0</td>\n",
              "      <td>0</td>\n",
              "    </tr>\n",
              "    <tr>\n",
              "      <th>2</th>\n",
              "      <td>0</td>\n",
              "      <td>2.0</td>\n",
              "      <td>2.0</td>\n",
              "      <td>9</td>\n",
              "      <td>10</td>\n",
              "      <td>9</td>\n",
              "      <td>10</td>\n",
              "      <td>9</td>\n",
              "      <td>10</td>\n",
              "      <td>10</td>\n",
              "      <td>7</td>\n",
              "      <td>10</td>\n",
              "      <td>6</td>\n",
              "      <td>10</td>\n",
              "      <td>0</td>\n",
              "      <td>0</td>\n",
              "      <td>1</td>\n",
              "    </tr>\n",
              "    <tr>\n",
              "      <th>3</th>\n",
              "      <td>0</td>\n",
              "      <td>2.0</td>\n",
              "      <td>2.0</td>\n",
              "      <td>5</td>\n",
              "      <td>8</td>\n",
              "      <td>5</td>\n",
              "      <td>8</td>\n",
              "      <td>4</td>\n",
              "      <td>5</td>\n",
              "      <td>6</td>\n",
              "      <td>4</td>\n",
              "      <td>10</td>\n",
              "      <td>9</td>\n",
              "      <td>7</td>\n",
              "      <td>1</td>\n",
              "      <td>0</td>\n",
              "      <td>0</td>\n",
              "    </tr>\n",
              "    <tr>\n",
              "      <th>4</th>\n",
              "      <td>0</td>\n",
              "      <td>1.0</td>\n",
              "      <td>0.0</td>\n",
              "      <td>8</td>\n",
              "      <td>9</td>\n",
              "      <td>4</td>\n",
              "      <td>10</td>\n",
              "      <td>7</td>\n",
              "      <td>9</td>\n",
              "      <td>8</td>\n",
              "      <td>5</td>\n",
              "      <td>4</td>\n",
              "      <td>4</td>\n",
              "      <td>9</td>\n",
              "      <td>0</td>\n",
              "      <td>1</td>\n",
              "      <td>0</td>\n",
              "    </tr>\n",
              "  </tbody>\n",
              "</table>\n",
              "</div>\n",
              "      <button class=\"colab-df-convert\" onclick=\"convertToInteractive('df-54e9c1db-8a48-4d2d-905d-a06445445948')\"\n",
              "              title=\"Convert this dataframe to an interactive table.\"\n",
              "              style=\"display:none;\">\n",
              "        \n",
              "  <svg xmlns=\"http://www.w3.org/2000/svg\" height=\"24px\"viewBox=\"0 0 24 24\"\n",
              "       width=\"24px\">\n",
              "    <path d=\"M0 0h24v24H0V0z\" fill=\"none\"/>\n",
              "    <path d=\"M18.56 5.44l.94 2.06.94-2.06 2.06-.94-2.06-.94-.94-2.06-.94 2.06-2.06.94zm-11 1L8.5 8.5l.94-2.06 2.06-.94-2.06-.94L8.5 2.5l-.94 2.06-2.06.94zm10 10l.94 2.06.94-2.06 2.06-.94-2.06-.94-.94-2.06-.94 2.06-2.06.94z\"/><path d=\"M17.41 7.96l-1.37-1.37c-.4-.4-.92-.59-1.43-.59-.52 0-1.04.2-1.43.59L10.3 9.45l-7.72 7.72c-.78.78-.78 2.05 0 2.83L4 21.41c.39.39.9.59 1.41.59.51 0 1.02-.2 1.41-.59l7.78-7.78 2.81-2.81c.8-.78.8-2.07 0-2.86zM5.41 20L4 18.59l7.72-7.72 1.47 1.35L5.41 20z\"/>\n",
              "  </svg>\n",
              "      </button>\n",
              "      \n",
              "  <style>\n",
              "    .colab-df-container {\n",
              "      display:flex;\n",
              "      flex-wrap:wrap;\n",
              "      gap: 12px;\n",
              "    }\n",
              "\n",
              "    .colab-df-convert {\n",
              "      background-color: #E8F0FE;\n",
              "      border: none;\n",
              "      border-radius: 50%;\n",
              "      cursor: pointer;\n",
              "      display: none;\n",
              "      fill: #1967D2;\n",
              "      height: 32px;\n",
              "      padding: 0 0 0 0;\n",
              "      width: 32px;\n",
              "    }\n",
              "\n",
              "    .colab-df-convert:hover {\n",
              "      background-color: #E2EBFA;\n",
              "      box-shadow: 0px 1px 2px rgba(60, 64, 67, 0.3), 0px 1px 3px 1px rgba(60, 64, 67, 0.15);\n",
              "      fill: #174EA6;\n",
              "    }\n",
              "\n",
              "    [theme=dark] .colab-df-convert {\n",
              "      background-color: #3B4455;\n",
              "      fill: #D2E3FC;\n",
              "    }\n",
              "\n",
              "    [theme=dark] .colab-df-convert:hover {\n",
              "      background-color: #434B5C;\n",
              "      box-shadow: 0px 1px 3px 1px rgba(0, 0, 0, 0.15);\n",
              "      filter: drop-shadow(0px 1px 2px rgba(0, 0, 0, 0.3));\n",
              "      fill: #FFFFFF;\n",
              "    }\n",
              "  </style>\n",
              "\n",
              "      <script>\n",
              "        const buttonEl =\n",
              "          document.querySelector('#df-54e9c1db-8a48-4d2d-905d-a06445445948 button.colab-df-convert');\n",
              "        buttonEl.style.display =\n",
              "          google.colab.kernel.accessAllowed ? 'block' : 'none';\n",
              "\n",
              "        async function convertToInteractive(key) {\n",
              "          const element = document.querySelector('#df-54e9c1db-8a48-4d2d-905d-a06445445948');\n",
              "          const dataTable =\n",
              "            await google.colab.kernel.invokeFunction('convertToInteractive',\n",
              "                                                     [key], {});\n",
              "          if (!dataTable) return;\n",
              "\n",
              "          const docLinkHtml = 'Like what you see? Visit the ' +\n",
              "            '<a target=\"_blank\" href=https://colab.research.google.com/notebooks/data_table.ipynb>data table notebook</a>'\n",
              "            + ' to learn more about interactive tables.';\n",
              "          element.innerHTML = '';\n",
              "          dataTable['output_type'] = 'display_data';\n",
              "          await google.colab.output.renderOutput(dataTable, element);\n",
              "          const docLink = document.createElement('div');\n",
              "          docLink.innerHTML = docLinkHtml;\n",
              "          element.appendChild(docLink);\n",
              "        }\n",
              "      </script>\n",
              "    </div>\n",
              "  </div>\n",
              "  "
            ]
          },
          "metadata": {},
          "execution_count": 14
        }
      ],
      "source": [
        "df_cleaned.head()"
      ]
    },
    {
      "cell_type": "markdown",
      "metadata": {
        "id": "gDBhpdTR6WCU"
      },
      "source": [
        "## 3. Split data"
      ]
    },
    {
      "cell_type": "markdown",
      "metadata": {
        "id": "v0jlPJnf3RBR"
      },
      "source": [
        "**[3.1]** Extract the target variable into a variable called y"
      ]
    },
    {
      "cell_type": "code",
      "execution_count": null,
      "metadata": {
        "id": "GT-d9HBR3dPF"
      },
      "outputs": [],
      "source": [
        "y = df_cleaned.pop('Target')"
      ]
    },
    {
      "cell_type": "markdown",
      "metadata": {
        "id": "9cVLqzqr542x"
      },
      "source": [
        "**[3.2]** Create a variable called X that contains all the variables"
      ]
    },
    {
      "cell_type": "code",
      "execution_count": null,
      "metadata": {
        "id": "B6ic0OAY55Kl"
      },
      "outputs": [],
      "source": [
        "X = df_cleaned"
      ]
    },
    {
      "cell_type": "markdown",
      "metadata": {
        "id": "WP93DJ2l49uA"
      },
      "source": [
        "**[3.3]** Import train_test_split from sklearn.model_selection"
      ]
    },
    {
      "cell_type": "code",
      "execution_count": null,
      "metadata": {
        "id": "jZxsXlPF4-IM"
      },
      "outputs": [],
      "source": [
        "from sklearn.model_selection import train_test_split"
      ]
    },
    {
      "cell_type": "markdown",
      "metadata": {
        "id": "l48uEfrf4-Qn"
      },
      "source": [
        "**[3.4]** Split the dataset into 2 different sets: data (90%) and test (10%)"
      ]
    },
    {
      "cell_type": "code",
      "execution_count": null,
      "metadata": {
        "id": "F0ADrp1E4-Zu"
      },
      "outputs": [],
      "source": [
        "X_data, X_test, y_data, y_test = train_test_split(X, y, test_size=0.1, random_state=42)"
      ]
    },
    {
      "cell_type": "markdown",
      "metadata": {
        "id": "R3om11NU9Ct5"
      },
      "source": [
        "**[3.6]** Split the data randomly into 2 different sets: training (90%) and validation (10%)"
      ]
    },
    {
      "cell_type": "code",
      "execution_count": null,
      "metadata": {
        "id": "cv3wSoCAs6Av"
      },
      "outputs": [],
      "source": [
        "X_train, X_val, y_train, y_val = train_test_split(X_data, y_data, test_size=0.1, random_state=42)"
      ]
    },
    {
      "cell_type": "markdown",
      "metadata": {
        "id": "ef8UdrHFQW4D"
      },
      "source": [
        "**[3.7]** Export cleaned X_train, X_val, X_test, y_train, y_val, y_test to csv files stored in drive"
      ]
    },
    {
      "cell_type": "code",
      "execution_count": null,
      "metadata": {
        "id": "ptas7T0RQmtu"
      },
      "outputs": [],
      "source": [
        "X_train.to_csv('/content/drive/My Drive/data/X_train.csv')\n",
        "X_val.to_csv('/content/drive/My Drive/data/X_val.csv')\n",
        "X_test.to_csv('/content/drive/My Drive/data/X_test.csv')\n",
        "y_train.to_csv('/content/drive/My Drive/data/y_train.csv')\n",
        "y_val.to_csv('/content/drive/My Drive/data/y_val.csv')\n",
        "y_test.to_csv('/content/drive/My Drive/data/y_test.csv')"
      ]
    },
    {
      "cell_type": "markdown",
      "metadata": {
        "id": "GzPsvRGA21T1"
      },
      "source": [
        "## 5. Assess Baseline Model"
      ]
    },
    {
      "cell_type": "markdown",
      "metadata": {
        "id": "1IsxKh9S23oM"
      },
      "source": [
        "**[5.1]** Find the mode of the target variable from the training set and print its value"
      ]
    },
    {
      "cell_type": "code",
      "execution_count": null,
      "metadata": {
        "id": "cLcnZ-he27Cf",
        "colab": {
          "base_uri": "https://localhost:8080/"
        },
        "outputId": "a74116a4-d7c7-4a3f-eb65-b92d8e1d6567"
      },
      "outputs": [
        {
          "output_type": "execute_result",
          "data": {
            "text/plain": [
              "0    0\n",
              "Name: Target, dtype: int64"
            ]
          },
          "metadata": {},
          "execution_count": 21
        }
      ],
      "source": [
        "y_mode = y_train.mode()\n",
        "y_mode"
      ]
    },
    {
      "cell_type": "markdown",
      "metadata": {
        "id": "kYVN0ssQ3iAb"
      },
      "source": [
        "**[5.2]** Create a numpy array with the same dimensions as for the training set called y_base filled with this value\n",
        "\n"
      ]
    },
    {
      "cell_type": "code",
      "execution_count": null,
      "metadata": {
        "id": "DwGRyhuG293c"
      },
      "outputs": [],
      "source": [
        "y_base = np.full(y_train.shape, y_mode)"
      ]
    },
    {
      "cell_type": "markdown",
      "metadata": {
        "id": "eG52TP9Y352S"
      },
      "source": [
        "**[5.3]** Import the accuracy and f1 scores from sklearn"
      ]
    },
    {
      "cell_type": "code",
      "execution_count": null,
      "metadata": {
        "id": "-q6FEvnj35_7"
      },
      "outputs": [],
      "source": [
        "from sklearn.metrics import accuracy_score, f1_score"
      ]
    },
    {
      "cell_type": "markdown",
      "metadata": {
        "id": "0SGDh14S4D8t"
      },
      "source": [
        "**[5.4]** Display the accuracy and f1 scores of this baseline model on the training set"
      ]
    },
    {
      "cell_type": "code",
      "execution_count": null,
      "metadata": {
        "id": "FCabTwTq4FN3",
        "colab": {
          "base_uri": "https://localhost:8080/"
        },
        "outputId": "13cd9cc7-3185-4832-d5ad-7896467a8d2f"
      },
      "outputs": [
        {
          "output_type": "stream",
          "name": "stdout",
          "text": [
            "0.9730474443974232\n",
            "0.9597552575199423\n"
          ]
        }
      ],
      "source": [
        "print(accuracy_score(y_train, y_base))\n",
        "print(f1_score(y_train, y_base, average='weighted'))"
      ]
    },
    {
      "cell_type": "markdown",
      "metadata": {
        "id": "fjDue9cAacH2"
      },
      "source": [
        "### 6. Train SVC with default Hyperparameter"
      ]
    },
    {
      "cell_type": "markdown",
      "metadata": {
        "id": "Bl6wWBiCE-iP"
      },
      "source": [
        "**[6.1]** Import SVC from sklearn.svm"
      ]
    },
    {
      "cell_type": "code",
      "execution_count": null,
      "metadata": {
        "id": "Qz2Df6O0FWkG"
      },
      "outputs": [],
      "source": [
        "from sklearn.svm import SVC"
      ]
    },
    {
      "cell_type": "markdown",
      "metadata": {
        "id": "08pMDobUxCRW"
      },
      "source": [
        "**[6.2]** Instantiate a SVC() model with default hyperparameters"
      ]
    },
    {
      "cell_type": "code",
      "execution_count": null,
      "metadata": {
        "id": "Kmymp4S18MqY"
      },
      "outputs": [],
      "source": [
        "svc_1 = SVC()"
      ]
    },
    {
      "cell_type": "markdown",
      "metadata": {
        "id": "99Y27hu7F5dg"
      },
      "source": [
        "**[6.3]** Train the model on the training set"
      ]
    },
    {
      "cell_type": "code",
      "execution_count": null,
      "metadata": {
        "id": "gxDI5b85FjGZ",
        "colab": {
          "base_uri": "https://localhost:8080/",
          "height": 74
        },
        "outputId": "7c8de79d-42b5-411e-a834-05a99b935b6a"
      },
      "outputs": [
        {
          "output_type": "execute_result",
          "data": {
            "text/plain": [
              "SVC()"
            ],
            "text/html": [
              "<style>#sk-container-id-1 {color: black;background-color: white;}#sk-container-id-1 pre{padding: 0;}#sk-container-id-1 div.sk-toggleable {background-color: white;}#sk-container-id-1 label.sk-toggleable__label {cursor: pointer;display: block;width: 100%;margin-bottom: 0;padding: 0.3em;box-sizing: border-box;text-align: center;}#sk-container-id-1 label.sk-toggleable__label-arrow:before {content: \"▸\";float: left;margin-right: 0.25em;color: #696969;}#sk-container-id-1 label.sk-toggleable__label-arrow:hover:before {color: black;}#sk-container-id-1 div.sk-estimator:hover label.sk-toggleable__label-arrow:before {color: black;}#sk-container-id-1 div.sk-toggleable__content {max-height: 0;max-width: 0;overflow: hidden;text-align: left;background-color: #f0f8ff;}#sk-container-id-1 div.sk-toggleable__content pre {margin: 0.2em;color: black;border-radius: 0.25em;background-color: #f0f8ff;}#sk-container-id-1 input.sk-toggleable__control:checked~div.sk-toggleable__content {max-height: 200px;max-width: 100%;overflow: auto;}#sk-container-id-1 input.sk-toggleable__control:checked~label.sk-toggleable__label-arrow:before {content: \"▾\";}#sk-container-id-1 div.sk-estimator input.sk-toggleable__control:checked~label.sk-toggleable__label {background-color: #d4ebff;}#sk-container-id-1 div.sk-label input.sk-toggleable__control:checked~label.sk-toggleable__label {background-color: #d4ebff;}#sk-container-id-1 input.sk-hidden--visually {border: 0;clip: rect(1px 1px 1px 1px);clip: rect(1px, 1px, 1px, 1px);height: 1px;margin: -1px;overflow: hidden;padding: 0;position: absolute;width: 1px;}#sk-container-id-1 div.sk-estimator {font-family: monospace;background-color: #f0f8ff;border: 1px dotted black;border-radius: 0.25em;box-sizing: border-box;margin-bottom: 0.5em;}#sk-container-id-1 div.sk-estimator:hover {background-color: #d4ebff;}#sk-container-id-1 div.sk-parallel-item::after {content: \"\";width: 100%;border-bottom: 1px solid gray;flex-grow: 1;}#sk-container-id-1 div.sk-label:hover label.sk-toggleable__label {background-color: #d4ebff;}#sk-container-id-1 div.sk-serial::before {content: \"\";position: absolute;border-left: 1px solid gray;box-sizing: border-box;top: 0;bottom: 0;left: 50%;z-index: 0;}#sk-container-id-1 div.sk-serial {display: flex;flex-direction: column;align-items: center;background-color: white;padding-right: 0.2em;padding-left: 0.2em;position: relative;}#sk-container-id-1 div.sk-item {position: relative;z-index: 1;}#sk-container-id-1 div.sk-parallel {display: flex;align-items: stretch;justify-content: center;background-color: white;position: relative;}#sk-container-id-1 div.sk-item::before, #sk-container-id-1 div.sk-parallel-item::before {content: \"\";position: absolute;border-left: 1px solid gray;box-sizing: border-box;top: 0;bottom: 0;left: 50%;z-index: -1;}#sk-container-id-1 div.sk-parallel-item {display: flex;flex-direction: column;z-index: 1;position: relative;background-color: white;}#sk-container-id-1 div.sk-parallel-item:first-child::after {align-self: flex-end;width: 50%;}#sk-container-id-1 div.sk-parallel-item:last-child::after {align-self: flex-start;width: 50%;}#sk-container-id-1 div.sk-parallel-item:only-child::after {width: 0;}#sk-container-id-1 div.sk-dashed-wrapped {border: 1px dashed gray;margin: 0 0.4em 0.5em 0.4em;box-sizing: border-box;padding-bottom: 0.4em;background-color: white;}#sk-container-id-1 div.sk-label label {font-family: monospace;font-weight: bold;display: inline-block;line-height: 1.2em;}#sk-container-id-1 div.sk-label-container {text-align: center;}#sk-container-id-1 div.sk-container {/* jupyter's `normalize.less` sets `[hidden] { display: none; }` but bootstrap.min.css set `[hidden] { display: none !important; }` so we also need the `!important` here to be able to override the default hidden behavior on the sphinx rendered scikit-learn.org. See: https://github.com/scikit-learn/scikit-learn/issues/21755 */display: inline-block !important;position: relative;}#sk-container-id-1 div.sk-text-repr-fallback {display: none;}</style><div id=\"sk-container-id-1\" class=\"sk-top-container\"><div class=\"sk-text-repr-fallback\"><pre>SVC()</pre><b>In a Jupyter environment, please rerun this cell to show the HTML representation or trust the notebook. <br />On GitHub, the HTML representation is unable to render, please try loading this page with nbviewer.org.</b></div><div class=\"sk-container\" hidden><div class=\"sk-item\"><div class=\"sk-estimator sk-toggleable\"><input class=\"sk-toggleable__control sk-hidden--visually\" id=\"sk-estimator-id-1\" type=\"checkbox\" checked><label for=\"sk-estimator-id-1\" class=\"sk-toggleable__label sk-toggleable__label-arrow\">SVC</label><div class=\"sk-toggleable__content\"><pre>SVC()</pre></div></div></div></div></div>"
            ]
          },
          "metadata": {},
          "execution_count": 27
        }
      ],
      "source": [
        "svc_1.fit(X_train, y_train)"
      ]
    },
    {
      "cell_type": "markdown",
      "metadata": {
        "id": "AkNsZORVxo6C"
      },
      "source": [
        "**[6.4]** Print the accuracy and f1 scores of the training set"
      ]
    },
    {
      "cell_type": "code",
      "execution_count": null,
      "metadata": {
        "id": "RHDvuDNYc558",
        "colab": {
          "base_uri": "https://localhost:8080/"
        },
        "outputId": "2402a5ea-9896-488a-cba8-4b7e357fd513"
      },
      "outputs": [
        {
          "output_type": "stream",
          "name": "stdout",
          "text": [
            "0.9885362298396577\n",
            "0.9874531811271061\n"
          ]
        }
      ],
      "source": [
        "y_train_preds = svc_1.predict(X_train)\n",
        "print(accuracy_score(y_train, y_train_preds))\n",
        "print(f1_score(y_train, y_train_preds, average='weighted'))"
      ]
    },
    {
      "cell_type": "markdown",
      "metadata": {
        "id": "-tMs3e8uHktr"
      },
      "source": [
        "**[6.5]** Import confusion_matrix, ConfusionMatrixDisplay from sklearn.metrics and matplotlib"
      ]
    },
    {
      "cell_type": "code",
      "execution_count": null,
      "metadata": {
        "id": "zuraMV5jWBGD"
      },
      "outputs": [],
      "source": [
        "from sklearn.metrics import confusion_matrix, ConfusionMatrixDisplay"
      ]
    },
    {
      "cell_type": "markdown",
      "metadata": {
        "id": "XiuUN-jQWy8g"
      },
      "source": [
        "**[6.6]** Create a confusion matrix on the training set"
      ]
    },
    {
      "cell_type": "code",
      "execution_count": null,
      "metadata": {
        "id": "UeHmHbqVWwRb",
        "colab": {
          "base_uri": "https://localhost:8080/"
        },
        "outputId": "89b0bfdf-07f9-496e-e802-dfc7c6496949"
      },
      "outputs": [
        {
          "output_type": "execute_result",
          "data": {
            "text/plain": [
              "array([[103324,    145],\n",
              "       [  1074,   1792]])"
            ]
          },
          "metadata": {},
          "execution_count": 30
        }
      ],
      "source": [
        "confusion_matrix(y_train, y_train_preds, labels=svc_1.classes_)"
      ]
    },
    {
      "cell_type": "markdown",
      "metadata": {
        "id": "VUzmaxMqEOwI"
      },
      "source": [
        "**[6.7]** Create a frequency confusion matrix on the training set"
      ]
    },
    {
      "cell_type": "code",
      "execution_count": null,
      "metadata": {
        "id": "KgPn03J_YoeK",
        "colab": {
          "base_uri": "https://localhost:8080/"
        },
        "outputId": "2700c083-fb25-49f8-af6b-55f167702737"
      },
      "outputs": [
        {
          "output_type": "execute_result",
          "data": {
            "text/plain": [
              "array([[0.99859861, 0.00140139],\n",
              "       [0.37473831, 0.62526169]])"
            ]
          },
          "metadata": {},
          "execution_count": 31
        }
      ],
      "source": [
        "confusion_matrix(y_train, y_train_preds, labels=svc_1.classes_, normalize='true')"
      ]
    },
    {
      "cell_type": "markdown",
      "metadata": {
        "id": "-lfas8JfW6fU"
      },
      "source": [
        "**[6.8]** Display the confusion matrix as a chart"
      ]
    },
    {
      "cell_type": "code",
      "execution_count": null,
      "metadata": {
        "id": "9y0PCIqyWBZT",
        "colab": {
          "base_uri": "https://localhost:8080/",
          "height": 467
        },
        "outputId": "51ab86db-45e5-4887-fbf5-bccd279bd032"
      },
      "outputs": [
        {
          "output_type": "execute_result",
          "data": {
            "text/plain": [
              "<sklearn.metrics._plot.confusion_matrix.ConfusionMatrixDisplay at 0x7efbc9369930>"
            ]
          },
          "metadata": {},
          "execution_count": 32
        },
        {
          "output_type": "display_data",
          "data": {
            "text/plain": [
              "<Figure size 640x480 with 2 Axes>"
            ],
            "image/png": "[encoded data removed]"
          },
          "metadata": {}
        }
      ],
      "source": [
        "ConfusionMatrixDisplay.from_estimator(svc_1, X_train, y_train, normalize='true')"
      ]
    },
    {
      "cell_type": "markdown",
      "metadata": {
        "id": "0B7PPFG0cQ2J"
      },
      "source": [
        "**[6.9]** Print the accuracy and f1 scores of the validation set"
      ]
    },
    {
      "cell_type": "code",
      "execution_count": null,
      "metadata": {
        "id": "2BCdzkS4MpXo",
        "colab": {
          "base_uri": "https://localhost:8080/"
        },
        "outputId": "a0c84222-daa1-4e07-ca74-4655b0b417a8"
      },
      "outputs": [
        {
          "output_type": "stream",
          "name": "stdout",
          "text": [
            "0.987813134732566\n",
            "0.9863871647066993\n"
          ]
        }
      ],
      "source": [
        "y_val_preds = svc_1.predict(X_val)\n",
        "print(accuracy_score(y_val, y_val_preds))\n",
        "print(f1_score(y_val, y_val_preds, average='weighted'))"
      ]
    },
    {
      "cell_type": "markdown",
      "metadata": {
        "id": "x9tcSgMuJRD0"
      },
      "source": [
        "**[6.10]** Print the confusion matrix on the validation set"
      ]
    },
    {
      "cell_type": "code",
      "execution_count": null,
      "metadata": {
        "id": "u_2xq6vUJbeY",
        "colab": {
          "base_uri": "https://localhost:8080/",
          "height": 467
        },
        "outputId": "ad2d843f-371e-48e0-bcfd-514793a3ec13"
      },
      "outputs": [
        {
          "output_type": "execute_result",
          "data": {
            "text/plain": [
              "<sklearn.metrics._plot.confusion_matrix.ConfusionMatrixDisplay at 0x7efbc9369390>"
            ]
          },
          "metadata": {},
          "execution_count": 34
        },
        {
          "output_type": "display_data",
          "data": {
            "text/plain": [
              "<Figure size 640x480 with 2 Axes>"
            ],
            "image/png": "[encoded data removed]"
          },
          "metadata": {}
        }
      ],
      "source": [
        "ConfusionMatrixDisplay.from_estimator(svc_1, X_val, y_val, normalize='true')"
      ]
    },
    {
      "cell_type": "markdown",
      "metadata": {
        "id": "5SYIHBAI0FHH"
      },
      "source": [
        "## 7. Reduce SVC Overfitting with class weights"
      ]
    },
    {
      "cell_type": "markdown",
      "metadata": {
        "id": "1zxxsHEx0NZj"
      },
      "source": [
        "**[7.1]** Instantiate another SVC model by adding a weighting hyperparameter in order to balance each class "
      ]
    },
    {
      "cell_type": "code",
      "execution_count": null,
      "metadata": {
        "id": "FEJptXmD0Me-"
      },
      "outputs": [],
      "source": [
        "svc_2 = SVC(class_weight='balanced')"
      ]
    },
    {
      "cell_type": "markdown",
      "metadata": {
        "id": "j7cSUHC00ZMw"
      },
      "source": [
        "**[7.2]** Train this model on the training set"
      ]
    },
    {
      "cell_type": "code",
      "execution_count": null,
      "metadata": {
        "id": "_8-WKz3t0ZVt",
        "colab": {
          "base_uri": "https://localhost:8080/",
          "height": 74
        },
        "outputId": "f0470a19-d5d4-47f8-f3ca-c0cd70b51821"
      },
      "outputs": [
        {
          "output_type": "execute_result",
          "data": {
            "text/plain": [
              "SVC(class_weight='balanced')"
            ],
            "text/html": [
              "<style>#sk-container-id-2 {color: black;background-color: white;}#sk-container-id-2 pre{padding: 0;}#sk-container-id-2 div.sk-toggleable {background-color: white;}#sk-container-id-2 label.sk-toggleable__label {cursor: pointer;display: block;width: 100%;margin-bottom: 0;padding: 0.3em;box-sizing: border-box;text-align: center;}#sk-container-id-2 label.sk-toggleable__label-arrow:before {content: \"▸\";float: left;margin-right: 0.25em;color: #696969;}#sk-container-id-2 label.sk-toggleable__label-arrow:hover:before {color: black;}#sk-container-id-2 div.sk-estimator:hover label.sk-toggleable__label-arrow:before {color: black;}#sk-container-id-2 div.sk-toggleable__content {max-height: 0;max-width: 0;overflow: hidden;text-align: left;background-color: #f0f8ff;}#sk-container-id-2 div.sk-toggleable__content pre {margin: 0.2em;color: black;border-radius: 0.25em;background-color: #f0f8ff;}#sk-container-id-2 input.sk-toggleable__control:checked~div.sk-toggleable__content {max-height: 200px;max-width: 100%;overflow: auto;}#sk-container-id-2 input.sk-toggleable__control:checked~label.sk-toggleable__label-arrow:before {content: \"▾\";}#sk-container-id-2 div.sk-estimator input.sk-toggleable__control:checked~label.sk-toggleable__label {background-color: #d4ebff;}#sk-container-id-2 div.sk-label input.sk-toggleable__control:checked~label.sk-toggleable__label {background-color: #d4ebff;}#sk-container-id-2 input.sk-hidden--visually {border: 0;clip: rect(1px 1px 1px 1px);clip: rect(1px, 1px, 1px, 1px);height: 1px;margin: -1px;overflow: hidden;padding: 0;position: absolute;width: 1px;}#sk-container-id-2 div.sk-estimator {font-family: monospace;background-color: #f0f8ff;border: 1px dotted black;border-radius: 0.25em;box-sizing: border-box;margin-bottom: 0.5em;}#sk-container-id-2 div.sk-estimator:hover {background-color: #d4ebff;}#sk-container-id-2 div.sk-parallel-item::after {content: \"\";width: 100%;border-bottom: 1px solid gray;flex-grow: 1;}#sk-container-id-2 div.sk-label:hover label.sk-toggleable__label {background-color: #d4ebff;}#sk-container-id-2 div.sk-serial::before {content: \"\";position: absolute;border-left: 1px solid gray;box-sizing: border-box;top: 0;bottom: 0;left: 50%;z-index: 0;}#sk-container-id-2 div.sk-serial {display: flex;flex-direction: column;align-items: center;background-color: white;padding-right: 0.2em;padding-left: 0.2em;position: relative;}#sk-container-id-2 div.sk-item {position: relative;z-index: 1;}#sk-container-id-2 div.sk-parallel {display: flex;align-items: stretch;justify-content: center;background-color: white;position: relative;}#sk-container-id-2 div.sk-item::before, #sk-container-id-2 div.sk-parallel-item::before {content: \"\";position: absolute;border-left: 1px solid gray;box-sizing: border-box;top: 0;bottom: 0;left: 50%;z-index: -1;}#sk-container-id-2 div.sk-parallel-item {display: flex;flex-direction: column;z-index: 1;position: relative;background-color: white;}#sk-container-id-2 div.sk-parallel-item:first-child::after {align-self: flex-end;width: 50%;}#sk-container-id-2 div.sk-parallel-item:last-child::after {align-self: flex-start;width: 50%;}#sk-container-id-2 div.sk-parallel-item:only-child::after {width: 0;}#sk-container-id-2 div.sk-dashed-wrapped {border: 1px dashed gray;margin: 0 0.4em 0.5em 0.4em;box-sizing: border-box;padding-bottom: 0.4em;background-color: white;}#sk-container-id-2 div.sk-label label {font-family: monospace;font-weight: bold;display: inline-block;line-height: 1.2em;}#sk-container-id-2 div.sk-label-container {text-align: center;}#sk-container-id-2 div.sk-container {/* jupyter's `normalize.less` sets `[hidden] { display: none; }` but bootstrap.min.css set `[hidden] { display: none !important; }` so we also need the `!important` here to be able to override the default hidden behavior on the sphinx rendered scikit-learn.org. See: https://github.com/scikit-learn/scikit-learn/issues/21755 */display: inline-block !important;position: relative;}#sk-container-id-2 div.sk-text-repr-fallback {display: none;}</style><div id=\"sk-container-id-2\" class=\"sk-top-container\"><div class=\"sk-text-repr-fallback\"><pre>SVC(class_weight=&#x27;balanced&#x27;)</pre><b>In a Jupyter environment, please rerun this cell to show the HTML representation or trust the notebook. <br />On GitHub, the HTML representation is unable to render, please try loading this page with nbviewer.org.</b></div><div class=\"sk-container\" hidden><div class=\"sk-item\"><div class=\"sk-estimator sk-toggleable\"><input class=\"sk-toggleable__control sk-hidden--visually\" id=\"sk-estimator-id-2\" type=\"checkbox\" checked><label for=\"sk-estimator-id-2\" class=\"sk-toggleable__label sk-toggleable__label-arrow\">SVC</label><div class=\"sk-toggleable__content\"><pre>SVC(class_weight=&#x27;balanced&#x27;)</pre></div></div></div></div></div>"
            ]
          },
          "metadata": {},
          "execution_count": 36
        }
      ],
      "source": [
        "svc_2.fit(X_train, y_train)"
      ]
    },
    {
      "cell_type": "markdown",
      "metadata": {
        "id": "m74i-zp60f20"
      },
      "source": [
        "**[7.3]** Save its predictions from the training and validation sets on 2 different variables"
      ]
    },
    {
      "cell_type": "code",
      "execution_count": null,
      "metadata": {
        "id": "LaRxUTwR0f_r"
      },
      "outputs": [],
      "source": [
        "y_train_preds = svc_2.predict(X_train)\n",
        "y_val_preds = svc_2.predict(X_val)"
      ]
    },
    {
      "cell_type": "markdown",
      "metadata": {
        "id": "2CIbx4edpNbR"
      },
      "source": [
        "**[7.4]** Display the accuracy score on the training and validation sets"
      ]
    },
    {
      "cell_type": "code",
      "execution_count": null,
      "metadata": {
        "id": "XU0nEowLoMZi",
        "colab": {
          "base_uri": "https://localhost:8080/"
        },
        "outputId": "5237f86b-d46e-43ae-a228-f249c1b79bd5"
      },
      "outputs": [
        {
          "output_type": "stream",
          "name": "stdout",
          "text": [
            "0.9503362016269338\n",
            "0.9525220040622884\n"
          ]
        }
      ],
      "source": [
        "print(accuracy_score(y_train, y_train_preds))\n",
        "print(accuracy_score(y_val, y_val_preds))"
      ]
    },
    {
      "cell_type": "markdown",
      "metadata": {
        "id": "Fg7HzUqr1qV7"
      },
      "source": [
        "**[7.5]** Display the f1 score on the training and validation sets"
      ]
    },
    {
      "cell_type": "code",
      "execution_count": null,
      "metadata": {
        "id": "dmUvEFn81qfw",
        "colab": {
          "base_uri": "https://localhost:8080/"
        },
        "outputId": "0efb46e2-f765-4057-f8ba-12d8d2a129ab"
      },
      "outputs": [
        {
          "output_type": "stream",
          "name": "stdout",
          "text": [
            "0.9614317151046496\n",
            "0.9627863918406394\n"
          ]
        }
      ],
      "source": [
        "print(f1_score(y_train, y_train_preds, average='weighted'))\n",
        "print(f1_score(y_val, y_val_preds, average='weighted'))"
      ]
    },
    {
      "cell_type": "markdown",
      "metadata": {
        "id": "j-lBRr8cp_wE"
      },
      "source": [
        "**[7.6]** Display the confusion matrices for this model on the training set"
      ]
    },
    {
      "cell_type": "code",
      "execution_count": null,
      "metadata": {
        "id": "K4UhZh6noMoP",
        "colab": {
          "base_uri": "https://localhost:8080/",
          "height": 467
        },
        "outputId": "9cd5ad25-898d-454c-d2ee-be9fc4153575"
      },
      "outputs": [
        {
          "output_type": "execute_result",
          "data": {
            "text/plain": [
              "<sklearn.metrics._plot.confusion_matrix.ConfusionMatrixDisplay at 0x7efbc92794e0>"
            ]
          },
          "metadata": {},
          "execution_count": 40
        },
        {
          "output_type": "display_data",
          "data": {
            "text/plain": [
              "<Figure size 640x480 with 2 Axes>"
            ],
            "image/png": "[encoded data removed]"
          },
          "metadata": {}
        }
      ],
      "source": [
        "ConfusionMatrixDisplay.from_estimator(svc_2, X_train, y_train, normalize='true')"
      ]
    },
    {
      "cell_type": "markdown",
      "metadata": {
        "id": "J8VcFdgZX84m"
      },
      "source": [
        "**[7.7]** Display the confusion matrices for this model on the validation set"
      ]
    },
    {
      "cell_type": "code",
      "execution_count": null,
      "metadata": {
        "id": "2hs-9TjyX9AZ",
        "colab": {
          "base_uri": "https://localhost:8080/",
          "height": 467
        },
        "outputId": "cc1e7714-9d29-41a0-d7f8-18bee459dc7d"
      },
      "outputs": [
        {
          "output_type": "execute_result",
          "data": {
            "text/plain": [
              "<sklearn.metrics._plot.confusion_matrix.ConfusionMatrixDisplay at 0x7efbc9278d30>"
            ]
          },
          "metadata": {},
          "execution_count": 41
        },
        {
          "output_type": "display_data",
          "data": {
            "text/plain": [
              "<Figure size 640x480 with 2 Axes>"
            ],
            "image/png": "[encoded data removed]"
          },
          "metadata": {}
        }
      ],
      "source": [
        "ConfusionMatrixDisplay.from_estimator(svc_2, X_val, y_val, normalize='true')"
      ]
    },
    {
      "cell_type": "markdown",
      "metadata": {
        "id": "6eMGUKBpfAPn"
      },
      "source": [
        "## 8. Reduce SVC Overfitting with C Hyperparameter"
      ]
    },
    {
      "cell_type": "markdown",
      "metadata": {
        "id": "OdaRAiydfWJl"
      },
      "source": [
        "**[8.1]** Train a SVC model with C=0.5"
      ]
    },
    {
      "cell_type": "code",
      "execution_count": null,
      "metadata": {
        "id": "PLG4EF_OklSw"
      },
      "outputs": [],
      "source": [
        "svc_c_1 = SVC(class_weight='balanced', C=0.5).fit(X_train, y_train)"
      ]
    },
    {
      "cell_type": "markdown",
      "metadata": {
        "id": "2FLbHpUT44qO"
      },
      "source": [
        "**[8.2]** Save its predictions from the training and validation sets on 2 different variables"
      ]
    },
    {
      "cell_type": "code",
      "execution_count": null,
      "metadata": {
        "id": "YyRAAymT440Z"
      },
      "outputs": [],
      "source": [
        "y_train_preds = svc_c_1.predict(X_train)\n",
        "y_val_preds = svc_c_1.predict(X_val)"
      ]
    },
    {
      "cell_type": "markdown",
      "metadata": {
        "id": "FlU1_Up245kI"
      },
      "source": [
        "**[8.3]** Display the accuracy score on the training and validation sets"
      ]
    },
    {
      "cell_type": "code",
      "execution_count": null,
      "metadata": {
        "id": "mgVEWnIg45uL",
        "colab": {
          "base_uri": "https://localhost:8080/"
        },
        "outputId": "a53fa931-da6d-46dd-8dce-60fb8fabc563"
      },
      "outputs": [
        {
          "output_type": "stream",
          "name": "stdout",
          "text": [
            "0.9450322095264965\n",
            "0.9478672985781991\n"
          ]
        }
      ],
      "source": [
        "print(accuracy_score(y_train, y_train_preds))\n",
        "print(accuracy_score(y_val, y_val_preds))"
      ]
    },
    {
      "cell_type": "markdown",
      "metadata": {
        "id": "jW3-GSA947gA"
      },
      "source": [
        "**[8.4]** Display the f1 score on the training and validation sets"
      ]
    },
    {
      "cell_type": "code",
      "execution_count": null,
      "metadata": {
        "id": "ng-MUnLz47oU",
        "colab": {
          "base_uri": "https://localhost:8080/"
        },
        "outputId": "bc76a710-8f83-48a1-bd87-a899fa3af692"
      },
      "outputs": [
        {
          "output_type": "stream",
          "name": "stdout",
          "text": [
            "0.9579369459211049\n",
            "0.9597612208743009\n"
          ]
        }
      ],
      "source": [
        "print(f1_score(y_train, y_train_preds, average='weighted'))\n",
        "print(f1_score(y_val, y_val_preds, average='weighted'))"
      ]
    },
    {
      "cell_type": "markdown",
      "metadata": {
        "id": "4T6IEHkfL_HV"
      },
      "source": [
        "**[8.5]** Plot the confusion matrics for the training set"
      ]
    },
    {
      "cell_type": "code",
      "execution_count": null,
      "metadata": {
        "id": "Lf-8yc4gMEcA",
        "colab": {
          "base_uri": "https://localhost:8080/",
          "height": 467
        },
        "outputId": "2e4c2777-485b-45be-8ae7-5e1f9030074f"
      },
      "outputs": [
        {
          "output_type": "execute_result",
          "data": {
            "text/plain": [
              "<sklearn.metrics._plot.confusion_matrix.ConfusionMatrixDisplay at 0x7efbc6af5030>"
            ]
          },
          "metadata": {},
          "execution_count": 46
        },
        {
          "output_type": "display_data",
          "data": {
            "text/plain": [
              "<Figure size 640x480 with 2 Axes>"
            ],
            "image/png": "[encoded data removed]"
          },
          "metadata": {}
        }
      ],
      "source": [
        "ConfusionMatrixDisplay.from_estimator(svc_c_1, X_train, y_train, normalize='true')"
      ]
    },
    {
      "cell_type": "markdown",
      "metadata": {
        "id": "94rbZESSMHuW"
      },
      "source": [
        "**[8.6]** Plot the confusion matrics for the validation set"
      ]
    },
    {
      "cell_type": "code",
      "execution_count": null,
      "metadata": {
        "id": "N69i3vREMJDj",
        "colab": {
          "base_uri": "https://localhost:8080/",
          "height": 467
        },
        "outputId": "ee583db9-3312-4415-f9c9-c9765ccb486e"
      },
      "outputs": [
        {
          "output_type": "execute_result",
          "data": {
            "text/plain": [
              "<sklearn.metrics._plot.confusion_matrix.ConfusionMatrixDisplay at 0x7efbc6af7ac0>"
            ]
          },
          "metadata": {},
          "execution_count": 47
        },
        {
          "output_type": "display_data",
          "data": {
            "text/plain": [
              "<Figure size 640x480 with 2 Axes>"
            ],
            "image/png": "[encoded data removed]"
          },
          "metadata": {}
        }
      ],
      "source": [
        "ConfusionMatrixDisplay.from_estimator(svc_c_1, X_val, y_val, normalize='true')"
      ]
    },
    {
      "cell_type": "markdown",
      "metadata": {
        "id": "N35WxG5o5UPB"
      },
      "source": [
        "## 9. Reduce SVC Overfitting with C Hyperparameter"
      ]
    },
    {
      "cell_type": "markdown",
      "metadata": {
        "id": "rvMmJdD7iSc4"
      },
      "source": [
        "**[9.1]** Train a SVC model with a different value for C"
      ]
    },
    {
      "cell_type": "code",
      "execution_count": null,
      "metadata": {
        "id": "wNzgV6K7kZfB"
      },
      "outputs": [],
      "source": [
        "svc_c_2 = SVC(class_weight='balanced', C=1).fit(X_train, y_train)"
      ]
    },
    {
      "cell_type": "markdown",
      "metadata": {
        "id": "d9DBNEwM5yuR"
      },
      "source": [
        "**[9.2]** Save its predictions from the training and validation sets on 2 different variables"
      ]
    },
    {
      "cell_type": "code",
      "execution_count": null,
      "metadata": {
        "id": "JmyhVSe55y3a"
      },
      "outputs": [],
      "source": [
        "y_train_preds = svc_c_2.predict(X_train)\n",
        "y_val_preds = svc_c_2.predict(X_val)"
      ]
    },
    {
      "cell_type": "markdown",
      "metadata": {
        "id": "4mhBthoX5zIV"
      },
      "source": [
        "**[9.3]** Display the accuracy score on the training and validation sets"
      ]
    },
    {
      "cell_type": "code",
      "execution_count": null,
      "metadata": {
        "id": "ZRWGDfp45zQ4",
        "colab": {
          "base_uri": "https://localhost:8080/"
        },
        "outputId": "0ebdf90f-56e8-4f98-e076-537eddbeecf5"
      },
      "outputs": [
        {
          "output_type": "stream",
          "name": "stdout",
          "text": [
            "0.9503362016269338\n",
            "0.9525220040622884\n"
          ]
        }
      ],
      "source": [
        "print(accuracy_score(y_train, y_train_preds))\n",
        "print(accuracy_score(y_val, y_val_preds))"
      ]
    },
    {
      "cell_type": "markdown",
      "metadata": {
        "id": "1xzOhANd5zZB"
      },
      "source": [
        "**[9.4]** Display the f1 score on the training and validation sets"
      ]
    },
    {
      "cell_type": "code",
      "execution_count": null,
      "metadata": {
        "id": "Ta8Jz1u_5zg4",
        "colab": {
          "base_uri": "https://localhost:8080/"
        },
        "outputId": "e1bf723f-778b-4400-94e5-8e179ccb6881"
      },
      "outputs": [
        {
          "output_type": "stream",
          "name": "stdout",
          "text": [
            "0.9614317151046496\n",
            "0.9627863918406394\n"
          ]
        }
      ],
      "source": [
        "print(f1_score(y_train, y_train_preds, average='weighted'))\n",
        "print(f1_score(y_val, y_val_preds, average='weighted'))"
      ]
    },
    {
      "cell_type": "markdown",
      "metadata": {
        "id": "z84-FcpOMX3t"
      },
      "source": [
        "**[9.5]** Plot the confusion matrics for the training set"
      ]
    },
    {
      "cell_type": "code",
      "execution_count": null,
      "metadata": {
        "id": "3_l0aiXyMbmD",
        "colab": {
          "base_uri": "https://localhost:8080/",
          "height": 467
        },
        "outputId": "8725907f-828c-4a39-b322-3959737da2c5"
      },
      "outputs": [
        {
          "output_type": "execute_result",
          "data": {
            "text/plain": [
              "<sklearn.metrics._plot.confusion_matrix.ConfusionMatrixDisplay at 0x7efbc6b20f70>"
            ]
          },
          "metadata": {},
          "execution_count": 52
        },
        {
          "output_type": "display_data",
          "data": {
            "text/plain": [
              "<Figure size 640x480 with 2 Axes>"
            ],
            "image/png": "[encoded data removed]"
          },
          "metadata": {}
        }
      ],
      "source": [
        "ConfusionMatrixDisplay.from_estimator(svc_c_2, X_train, y_train, normalize='true')"
      ]
    },
    {
      "cell_type": "markdown",
      "metadata": {
        "id": "DOtJOFyUMfHq"
      },
      "source": [
        "**[9.6]** Plot the confusion matrics for the validation set"
      ]
    },
    {
      "cell_type": "code",
      "execution_count": null,
      "metadata": {
        "id": "Q0Chal4UMjbS",
        "colab": {
          "base_uri": "https://localhost:8080/",
          "height": 467
        },
        "outputId": "37b39657-004a-44c4-bfe2-314e85dc3f78"
      },
      "outputs": [
        {
          "output_type": "execute_result",
          "data": {
            "text/plain": [
              "<sklearn.metrics._plot.confusion_matrix.ConfusionMatrixDisplay at 0x7efbc6a02b60>"
            ]
          },
          "metadata": {},
          "execution_count": 53
        },
        {
          "output_type": "display_data",
          "data": {
            "text/plain": [
              "<Figure size 640x480 with 2 Axes>"
            ],
            "image/png": "[encoded data removed]"
          },
          "metadata": {}
        }
      ],
      "source": [
        "ConfusionMatrixDisplay.from_estimator(svc_c_2, X_val, y_val, normalize='true')"
      ]
    },
    {
      "cell_type": "markdown",
      "metadata": {
        "id": "--IuWVlw50Iu"
      },
      "source": [
        "## 10. Reduce SVC Overfitting with C Hyperparameter"
      ]
    },
    {
      "cell_type": "markdown",
      "metadata": {
        "id": "-axCZYQFib_p"
      },
      "source": [
        "**[10.1]** Train a SVC model with a different value for C"
      ]
    },
    {
      "cell_type": "code",
      "execution_count": null,
      "metadata": {
        "id": "Ut2dnEUKkrUo"
      },
      "outputs": [],
      "source": [
        "svc_c_3 = SVC(class_weight='balanced', C=1.5).fit(X_train, y_train)"
      ]
    },
    {
      "cell_type": "markdown",
      "metadata": {
        "id": "m99Jp2bw6O5m"
      },
      "source": [
        "**[10.2]** Save its predictions from the training and validation sets on 2 different variables"
      ]
    },
    {
      "cell_type": "code",
      "execution_count": null,
      "metadata": {
        "id": "n1NjR_9F6PHI"
      },
      "outputs": [],
      "source": [
        "y_train_preds = svc_c_3.predict(X_train)\n",
        "y_val_preds = svc_c_3.predict(X_val)"
      ]
    },
    {
      "cell_type": "markdown",
      "metadata": {
        "id": "jeKwpsek6PSX"
      },
      "source": [
        "**[10.3]** Display the accuracy score on the training and validation sets"
      ]
    },
    {
      "cell_type": "code",
      "execution_count": null,
      "metadata": {
        "id": "cuMY9WmR6Pau",
        "colab": {
          "base_uri": "https://localhost:8080/"
        },
        "outputId": "4c64cb5b-eb2b-452f-b5ce-422ffccbbda1"
      },
      "outputs": [
        {
          "output_type": "stream",
          "name": "stdout",
          "text": [
            "0.9525932195420135\n",
            "0.9551455653351388\n"
          ]
        }
      ],
      "source": [
        "print(accuracy_score(y_train, y_train_preds))\n",
        "print(accuracy_score(y_val, y_val_preds))"
      ]
    },
    {
      "cell_type": "markdown",
      "metadata": {
        "id": "IrMX2j1O6Poe"
      },
      "source": [
        "**[10.4]** Display the f1 score on the training and validation sets"
      ]
    },
    {
      "cell_type": "code",
      "execution_count": null,
      "metadata": {
        "id": "MzaDEsnH6PwS",
        "colab": {
          "base_uri": "https://localhost:8080/"
        },
        "outputId": "488123ad-42fc-4e26-f263-f66f21ce70be"
      },
      "outputs": [
        {
          "output_type": "stream",
          "name": "stdout",
          "text": [
            "0.9629436748236039\n",
            "0.9645457826788219\n"
          ]
        }
      ],
      "source": [
        "print(f1_score(y_train, y_train_preds, average='weighted'))\n",
        "print(f1_score(y_val, y_val_preds, average='weighted'))"
      ]
    },
    {
      "cell_type": "markdown",
      "metadata": {
        "id": "nicDxfxYir9p"
      },
      "source": [
        "**[10.5]** Plot the confusion matrics for the training set"
      ]
    },
    {
      "cell_type": "code",
      "execution_count": null,
      "metadata": {
        "id": "FqX0abehTjqC",
        "colab": {
          "base_uri": "https://localhost:8080/",
          "height": 467
        },
        "outputId": "00d8a756-c3b6-4a39-f609-62f532ad635e"
      },
      "outputs": [
        {
          "output_type": "execute_result",
          "data": {
            "text/plain": [
              "<sklearn.metrics._plot.confusion_matrix.ConfusionMatrixDisplay at 0x7efbc699af50>"
            ]
          },
          "metadata": {},
          "execution_count": 58
        },
        {
          "output_type": "display_data",
          "data": {
            "text/plain": [
              "<Figure size 640x480 with 2 Axes>"
            ],
            "image/png": "[encoded data removed]"
          },
          "metadata": {}
        }
      ],
      "source": [
        "ConfusionMatrixDisplay.from_estimator(svc_c_3, X_train, y_train, normalize='true')"
      ]
    },
    {
      "cell_type": "markdown",
      "metadata": {
        "id": "Ooax-Uh5ZOBF"
      },
      "source": [
        "**[10.6]** Plot the confusion matrics for the validation set"
      ]
    },
    {
      "cell_type": "code",
      "execution_count": null,
      "metadata": {
        "id": "t59XJgOLZOTH",
        "colab": {
          "base_uri": "https://localhost:8080/",
          "height": 467
        },
        "outputId": "33007d41-4936-4419-9874-e493aea0a7aa"
      },
      "outputs": [
        {
          "output_type": "execute_result",
          "data": {
            "text/plain": [
              "<sklearn.metrics._plot.confusion_matrix.ConfusionMatrixDisplay at 0x7efbc69cbac0>"
            ]
          },
          "metadata": {},
          "execution_count": 59
        },
        {
          "output_type": "display_data",
          "data": {
            "text/plain": [
              "<Figure size 640x480 with 2 Axes>"
            ],
            "image/png": "[encoded data removed]"
          },
          "metadata": {}
        }
      ],
      "source": [
        "ConfusionMatrixDisplay.from_estimator(svc_c_3, X_val, y_val, normalize='true')"
      ]
    },
    {
      "cell_type": "markdown",
      "metadata": {
        "id": "oaLGgqrwNQ8B"
      },
      "source": [
        "## 11. Reduce SVC Overfitting with C Hyperparameter"
      ]
    },
    {
      "cell_type": "markdown",
      "metadata": {
        "id": "tkpwOPCrNhVG"
      },
      "source": [
        "**[11.1]** Train a SVC model with a different value for C"
      ]
    },
    {
      "cell_type": "code",
      "execution_count": null,
      "metadata": {
        "id": "ubG2HS_zNkx5"
      },
      "outputs": [],
      "source": [
        "svc_c_4 = SVC(class_weight='balanced', C=0.45).fit(X_train, y_train)"
      ]
    },
    {
      "cell_type": "markdown",
      "metadata": {
        "id": "z_qzMOEMNmtL"
      },
      "source": [
        "**[11.2]** Save its predictions from the training and validation sets on 2 different variables"
      ]
    },
    {
      "cell_type": "code",
      "execution_count": null,
      "metadata": {
        "id": "gjHIM7JmNofG"
      },
      "outputs": [],
      "source": [
        "y_train_preds = svc_c_4.predict(X_train)\n",
        "y_val_preds = svc_c_4.predict(X_val)"
      ]
    },
    {
      "cell_type": "markdown",
      "metadata": {
        "id": "8Jp0JTpQNyqp"
      },
      "source": [
        "**[11.3]** Display the accuracy score on the training and validation sets"
      ]
    },
    {
      "cell_type": "code",
      "execution_count": null,
      "metadata": {
        "id": "WE2cleDsN0aF",
        "colab": {
          "base_uri": "https://localhost:8080/"
        },
        "outputId": "64f1b111-8d04-4bf8-93ec-b60c15ee90ef"
      },
      "outputs": [
        {
          "output_type": "stream",
          "name": "stdout",
          "text": [
            "0.9441858278083416\n",
            "0.9466824644549763\n"
          ]
        }
      ],
      "source": [
        "print(accuracy_score(y_train, y_train_preds))\n",
        "print(accuracy_score(y_val, y_val_preds))"
      ]
    },
    {
      "cell_type": "markdown",
      "metadata": {
        "id": "s7XPEi3HN2Rv"
      },
      "source": [
        "**[11.4]** Display the f1 score on the training and validation sets"
      ]
    },
    {
      "cell_type": "code",
      "execution_count": null,
      "metadata": {
        "id": "ciXPLE3xN3fc",
        "colab": {
          "base_uri": "https://localhost:8080/"
        },
        "outputId": "81dac912-050d-4125-c7d4-049b332958a0"
      },
      "outputs": [
        {
          "output_type": "stream",
          "name": "stdout",
          "text": [
            "0.9573839588283661\n",
            "0.9589831768334944\n"
          ]
        }
      ],
      "source": [
        "print(f1_score(y_train, y_train_preds, average='weighted'))\n",
        "print(f1_score(y_val, y_val_preds, average='weighted'))"
      ]
    },
    {
      "cell_type": "markdown",
      "metadata": {
        "id": "FMAmM9wnN4lT"
      },
      "source": [
        "**[11.5]** Plot the confusion matrics for the training set"
      ]
    },
    {
      "cell_type": "code",
      "execution_count": null,
      "metadata": {
        "id": "mk00MwUvO05V",
        "colab": {
          "base_uri": "https://localhost:8080/",
          "height": 467
        },
        "outputId": "f26e3b56-5652-40c0-94b9-edb07460e770"
      },
      "outputs": [
        {
          "output_type": "execute_result",
          "data": {
            "text/plain": [
              "<sklearn.metrics._plot.confusion_matrix.ConfusionMatrixDisplay at 0x7efbc6859b10>"
            ]
          },
          "metadata": {},
          "execution_count": 64
        },
        {
          "output_type": "display_data",
          "data": {
            "text/plain": [
              "<Figure size 640x480 with 2 Axes>"
            ],
            "image/png": "[encoded data removed]"
          },
          "metadata": {}
        }
      ],
      "source": [
        "ConfusionMatrixDisplay.from_estimator(svc_c_4, X_train, y_train, normalize='true')"
      ]
    },
    {
      "cell_type": "markdown",
      "metadata": {
        "id": "nw5eLfkWO3ej"
      },
      "source": [
        "**[11.6]** Plot the confusion matrics for the validation set"
      ]
    },
    {
      "cell_type": "code",
      "execution_count": null,
      "metadata": {
        "id": "F-pRfCq5O5sX",
        "colab": {
          "base_uri": "https://localhost:8080/",
          "height": 467
        },
        "outputId": "c8a2b19f-d44d-4aab-b517-8b8d9b26b8af"
      },
      "outputs": [
        {
          "output_type": "execute_result",
          "data": {
            "text/plain": [
              "<sklearn.metrics._plot.confusion_matrix.ConfusionMatrixDisplay at 0x7efbc67cf520>"
            ]
          },
          "metadata": {},
          "execution_count": 65
        },
        {
          "output_type": "display_data",
          "data": {
            "text/plain": [
              "<Figure size 640x480 with 2 Axes>"
            ],
            "image/png": "[encoded data removed]"
          },
          "metadata": {}
        }
      ],
      "source": [
        "ConfusionMatrixDisplay.from_estimator(svc_c_4, X_val, y_val, normalize='true')"
      ]
    },
    {
      "cell_type": "markdown",
      "metadata": {
        "id": "mW8RpeR-AVj2"
      },
      "source": [
        "## 11.  Assess model on Testing Set"
      ]
    },
    {
      "cell_type": "markdown",
      "metadata": {
        "id": "67MM8GB0lxeE"
      },
      "source": [
        "**[11.1]** Print the accuracy and f1 scores on the testing set"
      ]
    },
    {
      "cell_type": "code",
      "execution_count": null,
      "metadata": {
        "id": "WjXWrk6Xlxmb",
        "colab": {
          "base_uri": "https://localhost:8080/"
        },
        "outputId": "8069835e-3f8e-43aa-a4f6-4518e13dc5a4"
      },
      "outputs": [
        {
          "output_type": "stream",
          "name": "stdout",
          "text": [
            "0.9505636806825106\n",
            "0.9618936808779911\n"
          ]
        }
      ],
      "source": [
        "y_test_preds = svc_c_3.predict(X_test)\n",
        "print(accuracy_score(y_test, y_test_preds))\n",
        "print(f1_score(y_test, y_test_preds, average='weighted'))"
      ]
    },
    {
      "cell_type": "markdown",
      "metadata": {
        "id": "Mji8eU1eZV37"
      },
      "source": [
        "**[11.2]** Plot the confusion matrics for the training and validation sets"
      ]
    },
    {
      "cell_type": "code",
      "execution_count": null,
      "metadata": {
        "id": "AQ16rFSVZWAD",
        "colab": {
          "base_uri": "https://localhost:8080/",
          "height": 899
        },
        "outputId": "0e37090c-2fb9-4320-f085-c46d13e34f55"
      },
      "outputs": [
        {
          "output_type": "execute_result",
          "data": {
            "text/plain": [
              "<sklearn.metrics._plot.confusion_matrix.ConfusionMatrixDisplay at 0x7efbc668f070>"
            ]
          },
          "metadata": {},
          "execution_count": 67
        },
        {
          "output_type": "display_data",
          "data": {
            "text/plain": [
              "<Figure size 640x480 with 2 Axes>"
            ],
            "image/png": "[encoded data removed]"
          },
          "metadata": {}
        },
        {
          "output_type": "display_data",
          "data": {
            "text/plain": [
              "<Figure size 640x480 with 2 Axes>"
            ],
            "image/png": "[encoded data removed]"
          },
          "metadata": {}
        }
      ],
      "source": [
        "ConfusionMatrixDisplay.from_estimator(svc_c_3, X_test, y_test, normalize='true')\n",
        "ConfusionMatrixDisplay.from_estimator(svc_c_3, X_val, y_val, normalize='true')"
      ]
    }
  ],
  "metadata": {
    "colab": {
      "provenance": []
    },
    "kernelspec": {
      "display_name": "Python 3",
      "name": "python3"
    }
  },
  "nbformat": 4,
  "nbformat_minor": 0
}